{
 "cells": [
  {
   "cell_type": "markdown",
   "metadata": {
    "id": "-ghDS5xT8EUA"
   },
   "source": [
    "\n",
    "## **CAP 6615 - Neural Networks -**\n",
    "\n",
    "\n",
    "---\n",
    "\n",
    "\n",
    "## **Programming Assignment 1 -- Single-Layer Perceptron**\n",
    "\n",
    "\n",
    "---\n",
    "\n",
    "\n",
    "1.   Hang Yin\n",
    "2.   Harsh Soni\n",
    "3.   Aaditya Prakash\n",
    "4.   Xiang Yan\n",
    "5.   Logan Cundiff\n",
    "\n",
    "\n",
    "\n",
    "\n",
    "\n",
    "\n",
    "\n",
    "Spring Semester 2021 \n",
    "\n",
    "\n",
    "---\n",
    "\n",
    "\n",
    "31 Jan 2021\n",
    "\n",
    "\n",
    "\n",
    "\n"
   ]
  },
  {
   "cell_type": "markdown",
   "metadata": {
    "id": "Y4v6_S2oGAW6"
   },
   "source": [
    "### **Summary of the single-layer perception model (implemented with Approach 3):**"
   ]
  },
  {
   "cell_type": "markdown",
   "metadata": {
    "id": "0WyPeB2pGIVy"
   },
   "source": [
    " *Number of weights*: 65536.\n",
    "\n",
    "  *Training set*: Ten grayscale 16x16 (pixels) images from a set of 20 images, including A, B, D, E, G, H, I, 3, 5,9\n",
    "\n",
    "  *Testing set*: Twenty grayscale 16x16 (pixels) images (with and without noise).\n",
    "\n",
    "  *Output Values*: Twenty grayscale 16x16 images\n",
    "\n",
    "  *Model Optimizer*: “Adam” - which uses a stochastic gradient descent method that is based on adaptive estimation of first-order and second-order moments.\n",
    "\n",
    "  *Loss function*: “MSE” - Mean Squared Error function\n",
    "\n"
   ]
  },
  {
   "cell_type": "markdown",
   "metadata": {
    "id": "hcuE9XxEHTJN"
   },
   "source": [
    "### **Step 1: Design and build the dataset**"
   ]
  },
  {
   "cell_type": "markdown",
   "metadata": {
    "id": "UrCEoE8GHYhK"
   },
   "source": [
    "Here we load all the packages used in this project"
   ]
  },
  {
   "cell_type": "code",
   "execution_count": 21,
   "metadata": {
    "id": "HErdeFzIYbIb"
   },
   "outputs": [],
   "source": [
    "import tensorflow as tf\n",
    "import numpy as np\n",
    "import pandas as pd\n",
    "import cv2\n",
    "from urllib.request import urlopen\n",
    "import sys\n",
    "import matplotlib.pyplot as plt\n",
    "import re\n",
    "from string import ascii_uppercase\n",
    "import copy\n",
    "from sklearn.preprocessing import MinMaxScaler"
   ]
  },
  {
   "cell_type": "markdown",
   "metadata": {
    "id": "uCiC6HiDF0-W"
   },
   "source": [
    "Here we create the labels for the 20 images"
   ]
  },
  {
   "cell_type": "code",
   "execution_count": 3,
   "metadata": {
    "colab": {
     "base_uri": "https://localhost:8080/"
    },
    "id": "LOT6i7qs3arf",
    "outputId": "d7decb8c-c9be-4f2f-a838-799f9dfc909d"
   },
   "outputs": [
    {
     "name": "stdout",
     "output_type": "stream",
     "text": [
      "['A', 'B', 'C', 'D', 'E', 'F', 'G', 'H', 'I', 'J', '0', '1', '2', '3', '4', '5', '6', '7', '8', '9']\n",
      "[ 0  1  2  3  4  5  6  7  8  9 10 11 12 13 14 15 16 17 18 19]\n"
     ]
    }
   ],
   "source": [
    "class_names = list(ascii_uppercase)[0:10]+[str(i) for i in range(10)]\n",
    "class_labels = np.arange(20)\n",
    "print(class_names)\n",
    "print(class_labels)"
   ]
  },
  {
   "cell_type": "markdown",
   "metadata": {
    "id": "HrZ3_YIVHqdG"
   },
   "source": [
    "In the \"images\" folder, we have stored 20 separate images. We use the cv2 package to resize these images and get 16 * 16 pixels. These pixels have a value between 0 to 255, and so we recode them into 0 and 1 by applying a thresholding function (127.5 is set as the cutoff value). Finally, we convert the image pixels into arrays."
   ]
  },
  {
   "cell_type": "code",
   "execution_count": 4,
   "metadata": {},
   "outputs": [],
   "source": [
    "imgs = []\n",
    "for img_file in class_names: \n",
    "    resp = urlopen('https://raw.githubusercontent.com/troyin/image-classification/main/images'+'/'+img_file+'.'+'gif')\n",
    "    arr = np.asarray(bytearray(resp.read()), dtype=\"uint8\")\n",
    "    img_gray = cv2.imdecode(arr, cv2.IMREAD_GRAYSCALE)\n",
    "    img_gray = cv2.resize(img_gray, (16, 16)) \n",
    "    (thresh, img_bw) = cv2.threshold(img_gray, 127.5, 255, cv2.THRESH_BINARY | cv2.THRESH_OTSU)\n",
    "    img = np.array(img_bw,dtype = np.float64)\t\n",
    "    imgs.append(img)\n",
    "imgs = np.array(imgs,dtype = np.float64)/255."
   ]
  },
  {
   "cell_type": "markdown",
   "metadata": {
    "id": "5BzaqeSUJ-5u"
   },
   "source": [
    "Here, we plot the 20 images to make sure that the dataset has been loaded correctly."
   ]
  },
  {
   "cell_type": "code",
   "execution_count": 5,
   "metadata": {
    "colab": {
     "base_uri": "https://localhost:8080/",
     "height": 248
    },
    "id": "ajyvU1GCpDHj",
    "outputId": "ee7629de-31d5-484d-e802-5a0e37a6d4a7"
   },
   "outputs": [
    {
     "data": {
      "image/png": "[encoded data removed]",
      "text/plain": [
       "<Figure size 432x288 with 20 Axes>"
      ]
     },
     "metadata": {
      "needs_background": "light"
     },
     "output_type": "display_data"
    }
   ],
   "source": [
    "for i in range(imgs.shape[0]):\n",
    "      plt.subplot(5, 4, i+1)\n",
    "      plt.imshow(imgs[i],cmap='gray')\n",
    "      plt.axis('off')\n",
    "\n",
    "plt.show()"
   ]
  },
  {
   "cell_type": "markdown",
   "metadata": {
    "id": "LCJT4XVhK976"
   },
   "source": [
    "### **Step 2: Design and develop a single-layer perception**"
   ]
  },
  {
   "cell_type": "markdown",
   "metadata": {
    "id": "5F8c6ANXLLw0"
   },
   "source": [
    "Our team has tried Approach 2 and Approach 3. We will report the results for both. However, we found that Approach 3 provides better results. We report the results for both Approach 2 and 3 here, but we only implement Approach 3 for Step 3 and the subsequent steps."
   ]
  },
  {
   "cell_type": "markdown",
   "metadata": {
    "id": "Y6jWnJ2Wgd0V"
   },
   "source": [
    "**Approach #2: Simple Network with Vector Output bold text**"
   ]
  },
  {
   "cell_type": "markdown",
   "metadata": {
    "id": "WrW1XO0pLY5H"
   },
   "source": [
    "***Neural network architecture***: We build the model with two layers: an input layer and an output layer. The input layer contains 256 nodes, and the output layer has 10 nodes (10 nodes because we have 10 images to be trained). Each of the 10 nodes contains a score that indicates the current image belongs to one of the 10 classes."
   ]
  },
  {
   "cell_type": "markdown",
   "metadata": {
    "id": "hQTdFNIkVYDi"
   },
   "source": [
    "1. Set up the layers. The first layer in this network, tf.keras.layers.Flatten, transforms the format of the images from a two-dimensional array (of 16 by 16 pixels) to a one-dimensional array (256 pixels). The second layer, tf.keras.layers.Dense, is a fully connected layer. We have specified a \"softmax\" activitation here, which allows each node to return a probably indicating the likeliehood that the current image belongs to the corresponding class."
   ]
  },
  {
   "cell_type": "code",
   "execution_count": 6,
   "metadata": {
    "id": "1SCcPO8Y0KLM"
   },
   "outputs": [],
   "source": [
    "model = tf.keras.models.Sequential([\n",
    "  tf.keras.layers.Flatten(input_shape=(16, 16)),\n",
    "  tf.keras.layers.Dense(10, activation='softmax')\n",
    "])"
   ]
  },
  {
   "cell_type": "markdown",
   "metadata": {
    "id": "inYW62rQXY4l"
   },
   "source": [
    "2. Compile the model. We specify a loss function that deals with multiple classification problems, an AdamOptimizer (a stochastic gradient descent method that is based on adaptive estimation of first-order and second-order moments), and an accuracy metric to indicate the faction of the images that are correctly classified."
   ]
  },
  {
   "cell_type": "code",
   "execution_count": 7,
   "metadata": {
    "id": "0NRPEWW7ZBfj"
   },
   "outputs": [],
   "source": [
    "model.compile(optimizer='adam', loss=tf.keras.losses.SparseCategoricalCrossentropy(from_logits=True), metrics=['accuracy'])"
   ]
  },
  {
   "cell_type": "markdown",
   "metadata": {
    "id": "AHeptp7nVtB1"
   },
   "source": [
    "3. Train the model. We have tested different epochs. We found that the model returns the best result when epochs is around 500."
   ]
  },
  {
   "cell_type": "code",
   "execution_count": 8,
   "metadata": {
    "colab": {
     "base_uri": "https://localhost:8080/"
    },
    "id": "b367szsh1uXw",
    "outputId": "626ed488-d12c-4d6e-81af-5a443eed202c"
   },
   "outputs": [
    {
     "data": {
      "text/plain": [
       "<tensorflow.python.keras.callbacks.History at 0x287cee52c48>"
      ]
     },
     "execution_count": 8,
     "metadata": {},
     "output_type": "execute_result"
    }
   ],
   "source": [
    "model.fit(imgs[0:10,:,:], class_labels[0:10], epochs=500, verbose=0)"
   ]
  },
  {
   "cell_type": "markdown",
   "metadata": {
    "id": "lVXpGOssZdsq"
   },
   "source": [
    "4. Evaluate accuracy. The following functions show the prediction results of the model and if the predictions are accurate or now. \n",
    "\n",
    "  We find that the predictions for all images that are not in the training dataset are wrong. Therefore, we have decided to implement Approach 3 in this project instead."
   ]
  },
  {
   "cell_type": "code",
   "execution_count": 9,
   "metadata": {
    "colab": {
     "base_uri": "https://localhost:8080/"
    },
    "id": "qw28BFE_7wvJ",
    "outputId": "0d905f44-5715-40cc-81ce-5120261c4242"
   },
   "outputs": [
    {
     "name": "stdout",
     "output_type": "stream",
     "text": [
      "[0 1 2 3 4 5 6 7 8 9 3 8 1 1 0 9 6 5 1 3]\n",
      "[ 0  1  2  3  4  5  6  7  8  9 10 11 12 13 14 15 16 17 18 19]\n",
      "[ True  True  True  True  True  True  True  True  True  True False False\n",
      " False False False False False False False False]\n"
     ]
    }
   ],
   "source": [
    "print(np.argmax(model.predict(imgs), axis=-1))\n",
    "print(class_labels)\n",
    "print(np.argmax(model.predict(imgs), axis=-1)==class_labels)"
   ]
  },
  {
   "cell_type": "markdown",
   "metadata": {
    "id": "ZXerL5jiNqlk"
   },
   "source": [
    "**Approach #3: Fully-connected Network with Image Output**"
   ]
  },
  {
   "cell_type": "markdown",
   "metadata": {
    "id": "g5TWdY6ubGFL"
   },
   "source": [
    "***Neural network architecture***: We build the model with two layers: an input layer and an output layer. The input layer contains 256 nodes, and the output layer has also has 256 nodes (and hence pixels). Each of these pixels contains a score that has a value range between 0 and 1; and together these pixels form the output image."
   ]
  },
  {
   "cell_type": "markdown",
   "metadata": {
    "id": "v-4AWXynbUKD"
   },
   "source": [
    "1. Set up the layers. The first layer in this network, tf.keras.layers.Flatten, transforms the format of the images from a two-dimensional array (of 16 by 16 pixels) to a one-dimensional array (256 pixels). The second layer, tf.keras.layers.Dense, is a fully connected layer. We have specified a \"sigmoid\" activitation here, which allows each node to return a value between 0 and 1. Finally, the third layor, tf.keras.layers.Reshape, tranforms the format of one-dimensional array (256 pixels) back into the format of an image (16*16 pixels)."
   ]
  },
  {
   "cell_type": "code",
   "execution_count": 10,
   "metadata": {
    "id": "wtVHSEAef6ZV"
   },
   "outputs": [],
   "source": [
    "model = tf.keras.models.Sequential([\n",
    "  tf.keras.layers.Flatten(input_shape=(16, 16)),\n",
    "  tf.keras.layers.Dense(256, activation='sigmoid'),\n",
    "  tf.keras.layers.Reshape((16, 16))\n",
    "])"
   ]
  },
  {
   "cell_type": "markdown",
   "metadata": {
    "id": "FxK_kZE-bG5a"
   },
   "source": [
    "2. Compile the model. We specify a loss function (i.e., mean squared errors) that deals with regression problems, an AdamOptimizer (a stochastic gradient descent method that is based on adaptive estimation of first-order and second-order moments). Since we do not predict the class for each image, we do not contruct an accuracy matrix here."
   ]
  },
  {
   "cell_type": "code",
   "execution_count": 11,
   "metadata": {
    "id": "Gr1j2QGybHrB"
   },
   "outputs": [],
   "source": [
    "model.compile(optimizer='adam',loss='mse',)"
   ]
  },
  {
   "cell_type": "markdown",
   "metadata": {
    "id": "u5Fi30SYbb4F"
   },
   "source": [
    "We show the training and testing of our model (implemneted with Approach 3) in the next step."
   ]
  },
  {
   "cell_type": "markdown",
   "metadata": {
    "id": "dw2L4XCtKQv9"
   },
   "source": [
    "### **Step 3: Train our SLP on the dataset**"
   ]
  },
  {
   "cell_type": "markdown",
   "metadata": {
    "id": "GZuVqK5sNyDs"
   },
   "source": [
    "3. Following Step 2, we now train the SLP. There are two main considerations: 1) which 10 of the 20 images to use for training; 2) how many epochs to train. After experimenting with differen combinations of the image sets and different numbers of epochs (100, 250, 500, 1000), we achieve the best results with the following: 1) We use A,B,D,E,G,H,I,3,5,9; 2) We use 500 epochs."
   ]
  },
  {
   "cell_type": "code",
   "execution_count": 12,
   "metadata": {
    "colab": {
     "base_uri": "https://localhost:8080/"
    },
    "id": "SGA61WbFf6ZW",
    "outputId": "a7a0e27c-d2b2-468a-d14a-dd4baf40b1f1"
   },
   "outputs": [
    {
     "data": {
      "text/plain": [
       "<tensorflow.python.keras.callbacks.History at 0x287cf247748>"
      ]
     },
     "execution_count": 12,
     "metadata": {},
     "output_type": "execute_result"
    }
   ],
   "source": [
    "model.fit(imgs[[0,1,3,4,6,7,8,13,15,19],:,:], imgs[[0,1,3,4,6,7,8,13,15,19],:,:], epochs=500, verbose=0) # training on 10 images (Assignment Step 3)"
   ]
  },
  {
   "cell_type": "markdown",
   "metadata": {
    "id": "ardTva_BLwTj"
   },
   "source": [
    "### **Step 4. Test the SLP with metrics of Fh and Ffa**"
   ]
  },
  {
   "cell_type": "markdown",
   "metadata": {
    "id": "pO9EVXCV32Gf"
   },
   "source": [
    "4. Evaluate the model. We do so by plotting the predicted 16*16 pixels as images below. We can see that the letters that were not part of the train set have murky looks: their predictions are often not exactly accurate; however, the predicted shape somewhat remsembles the letter. Among all letters that are in the testing set only, it appears that C, F and J are predicted with the highest accuracy.  "
   ]
  },
  {
   "cell_type": "code",
   "execution_count": 13,
   "metadata": {
    "colab": {
     "base_uri": "https://localhost:8080/",
     "height": 248
    },
    "id": "zhXs86BHVWBP",
    "outputId": "41616412-24d2-419b-fefa-f979d66fabb5"
   },
   "outputs": [
    {
     "data": {
      "image/png": "[encoded data removed]",
      "text/plain": [
       "<Figure size 432x288 with 20 Axes>"
      ]
     },
     "metadata": {
      "needs_background": "light"
     },
     "output_type": "display_data"
    }
   ],
   "source": [
    "predicted = model.predict(imgs) # prediction with noiseless images (Assignment Step 3)\n",
    "for i in range(imgs.shape[0]):\n",
    "      plt.subplot(5, 4, i+1)\n",
    "      plt.imshow(predicted[i],cmap='gray' )\n",
    "      plt.axis('off')\n",
    "\n",
    "plt.show()"
   ]
  },
  {
   "cell_type": "markdown",
   "metadata": {
    "id": "XtFcnXha5ifj"
   },
   "source": [
    "We now write two functions to compute the two accuracy metrics: fraction of hits (Fh) and fraction of false alarms (Ffa)."
   ]
  },
  {
   "cell_type": "code",
   "execution_count": 14,
   "metadata": {
    "id": "kD9ryn6w3QWX"
   },
   "outputs": [],
   "source": [
    "# The following function returns ffa and fh\n",
    "def compute_ffa_fh(predicted):\n",
    "  ffa, fh =[], []\n",
    "  for i in range(len(predicted)):\n",
    "    predict, img = predicted[i].reshape(256) , imgs[i].reshape(256) # flattening 16x16 to 1x256\n",
    "    correct, wrong, black_px, white_px = 0,0,0,0                    # for ffa and fh\n",
    "    for j in range(len(predict)):\n",
    "      predict[j] = 0 if predict[j] < 0.5 else 1                     # grayscale to binary\n",
    "    black_px = np.sum(img==1)\n",
    "    white_px = np.sum(img==0)\n",
    "    correct = np.sum(np.logical_and(img==1, predict==1))\n",
    "    wrong = np.sum(np.logical_and(img==0, predict==1))\n",
    "    ffa.append(wrong/white_px)\n",
    "    fh.append(correct/black_px)\n",
    "  return ffa,fh\n"
   ]
  },
  {
   "cell_type": "markdown",
   "metadata": {
    "id": "iSi3rBZh6GJR"
   },
   "source": [
    "We graph Fh as a function of Ffa for each exemplar in the input dataset."
   ]
  },
  {
   "cell_type": "code",
   "execution_count": 15,
   "metadata": {
    "colab": {
     "base_uri": "https://localhost:8080/",
     "height": 296
    },
    "id": "b0Dm8FqlrxFg",
    "outputId": "f4530f1e-0a42-4b7b-f7d2-f0a8a9c865bb"
   },
   "outputs": [
    {
     "data": {
      "text/plain": [
       "Text(0, 0.5, 'Fh')"
      ]
     },
     "execution_count": 15,
     "metadata": {},
     "output_type": "execute_result"
    },
    {
     "data": {
      "image/png": "[encoded data removed]",
      "text/plain": [
       "<Figure size 432x288 with 1 Axes>"
      ]
     },
     "metadata": {
      "needs_background": "light"
     },
     "output_type": "display_data"
    }
   ],
   "source": [
    "# fh ~ ffa plot for the \n",
    "\n",
    "ffa,fh = compute_ffa_fh(predicted)\n",
    "# std_dev_list = [0]*20\n",
    "ax = plt.gca()\n",
    "# ax.scatter(std_dev_list,ffa,facecolors='none',edgecolors='black',)\n",
    "ax.scatter(ffa,fh,color='black')\n",
    "ax.set_xlabel('Ffa')\n",
    "ax.set_ylabel('Fh')"
   ]
  },
  {
   "cell_type": "markdown",
   "metadata": {
    "id": "-raUWYx2MDWV"
   },
   "source": [
    "### **Step 5. Perturb the dataset by adding noise**"
   ]
  },
  {
   "cell_type": "markdown",
   "metadata": {
    "id": "wg663Bsf7uP1"
   },
   "source": [
    "We first write a function to add noise to the images. The noise will beGaussian-distrited with 10 percent cross-section, with zero mean and a standard deviation to be specified as an input to the function."
   ]
  },
  {
   "cell_type": "code",
   "execution_count": 16,
   "metadata": {
    "id": "qbfHnRnX-R2O"
   },
   "outputs": [],
   "source": [
    "def noise_adder(imgs,dev):        \n",
    "  noise = np.random.normal(0,dev,(16,16))\n",
    "  indices = np.random.choice(256, replace=False, size=int(256 * 0.9))\n",
    "  noise.reshape(-1)[indices]=0\n",
    "  imgs_noise = copy.deepcopy(imgs)\n",
    "  for i in range(imgs.shape[0]):\n",
    "    imgs_noise[i,:,:] = imgs_noise[i,:,:] + noise\n",
    "  imgs_noise_normalized = copy.deepcopy(imgs_noise)\n",
    "  scaler = MinMaxScaler(copy=True)\n",
    "  for i in range(imgs_noise.shape[0]):\n",
    "    scaler.fit(imgs_noise[i])\n",
    "    imgs_noise_normalized[i] = scaler.transform(imgs_noise[i])\n",
    "  return imgs_noise_normalized"
   ]
  },
  {
   "cell_type": "markdown",
   "metadata": {
    "id": "M4CB52op76hb"
   },
   "source": [
    "Here, we specify the standard deviation as 0.1 and visulize how the images look at when noises have been added."
   ]
  },
  {
   "cell_type": "code",
   "execution_count": 17,
   "metadata": {
    "colab": {
     "base_uri": "https://localhost:8080/",
     "height": 248
    },
    "id": "QE-QWxVnipHT",
    "outputId": "bf370092-c051-4c4b-d9f4-d95b16e70dd0"
   },
   "outputs": [
    {
     "data": {
      "image/png": "[encoded data removed]",
      "text/plain": [
       "<Figure size 432x288 with 20 Axes>"
      ]
     },
     "metadata": {
      "needs_background": "light"
     },
     "output_type": "display_data"
    }
   ],
   "source": [
    "imgs_noise_normalized = noise_adder(imgs,0.1)\n",
    "for i in range(imgs.shape[0]):\n",
    "      plt.subplot(5, 4, i+1)\n",
    "      plt.imshow(imgs_noise_normalized[i],cmap='gray' )\n",
    "      plt.axis('off')\n",
    "\n",
    "plt.show()"
   ]
  },
  {
   "cell_type": "markdown",
   "metadata": {
    "id": "UeIeaT5SMiqw"
   },
   "source": [
    "### **Step 6. Testing on perturbed datasets with different levels of noise**"
   ]
  },
  {
   "cell_type": "markdown",
   "metadata": {
    "id": "yuzByQ4yAE66"
   },
   "source": [
    "Define various gaussian noise levels"
   ]
  },
  {
   "cell_type": "code",
   "execution_count": 18,
   "metadata": {
    "id": "z8n_TW78WbgY"
   },
   "outputs": [],
   "source": [
    "dev=[0.1,0.05,0.03,0.02,0.01,0.005,0.003,0.002,0.001]"
   ]
  },
  {
   "cell_type": "markdown",
   "metadata": {
    "id": "SwbUbq9wAHjN"
   },
   "source": [
    "Compute metrics fha and fh changes for each image as noise level increases"
   ]
  },
  {
   "cell_type": "code",
   "execution_count": 19,
   "metadata": {
    "colab": {
     "base_uri": "https://localhost:8080/",
     "height": 300
    },
    "id": "NqNTIbDYCA9s",
    "outputId": "7854eae3-8eb2-4707-e2a3-c8d6af654729"
   },
   "outputs": [
    {
     "data": {
      "text/plain": [
       "Text(0.5, 0, 'Gaussian noise level')"
      ]
     },
     "execution_count": 19,
     "metadata": {},
     "output_type": "execute_result"
    },
    {
     "data": {
      "image/png": "[encoded data removed]",
      "text/plain": [
       "<Figure size 432x288 with 1 Axes>"
      ]
     },
     "metadata": {
      "needs_background": "light"
     },
     "output_type": "display_data"
    }
   ],
   "source": [
    "ax = plt.gca() # scatter plot\n",
    "ax.set_xscale('log')\n",
    "\n",
    "\n",
    "data =np.array([[0.00]*20]*18) #For tabulating\n",
    "# print(data.shape)\n",
    "\n",
    "for i in range(9):\n",
    "  # dev = dev/10\n",
    "  imgs_noisy = noise_adder(imgs,dev[i])\n",
    "  std_dev_list = [dev[i]]*20\n",
    "  predicted = model.predict(imgs_noisy)\n",
    "  ffa,fh = compute_ffa_fh(predicted)\n",
    "  data[i*2] = ffa\n",
    "  data[i*2+1] = fh\n",
    "  ax.scatter(std_dev_list,ffa,facecolors='none',edgecolors='black',)\n",
    "  ax.scatter(std_dev_list,fh,color='black')\n",
    "\n",
    "ax.set_ylabel('Ffa (hollow) and Fh (solid)')\n",
    "ax.set_xlabel('Gaussian noise level')"
   ]
  },
  {
   "cell_type": "markdown",
   "metadata": {
    "id": "OqxuQlmmiutS"
   },
   "source": [
    "Table of Autoassociative Single Layer Perceptron Response to Noisy Input"
   ]
  },
  {
   "cell_type": "code",
   "execution_count": 20,
   "metadata": {
    "colab": {
     "base_uri": "https://localhost:8080/",
     "height": 693
    },
    "id": "gsEWaayyiwAX",
    "outputId": "f1fbafa5-cc6f-4a08-a12c-328f84f77827",
    "scrolled": true
   },
   "outputs": [
    {
     "data": {
      "text/html": [
       "<style  type=\"text/css\" >\n",
       "    #T_881a9b46_6432_11eb_a827_50e085b850aarow0_col0 {\n",
       "            font-size:  8pt;\n",
       "        }    #T_881a9b46_6432_11eb_a827_50e085b850aarow0_col1 {\n",
       "            font-size:  8pt;\n",
       "        }    #T_881a9b46_6432_11eb_a827_50e085b850aarow0_col2 {\n",
       "            font-size:  8pt;\n",
       "        }    #T_881a9b46_6432_11eb_a827_50e085b850aarow0_col3 {\n",
       "            font-size:  8pt;\n",
       "        }    #T_881a9b46_6432_11eb_a827_50e085b850aarow0_col4 {\n",
       "            font-size:  8pt;\n",
       "        }    #T_881a9b46_6432_11eb_a827_50e085b850aarow0_col5 {\n",
       "            font-size:  8pt;\n",
       "        }    #T_881a9b46_6432_11eb_a827_50e085b850aarow0_col6 {\n",
       "            font-size:  8pt;\n",
       "        }    #T_881a9b46_6432_11eb_a827_50e085b850aarow0_col7 {\n",
       "            font-size:  8pt;\n",
       "        }    #T_881a9b46_6432_11eb_a827_50e085b850aarow0_col8 {\n",
       "            font-size:  8pt;\n",
       "        }    #T_881a9b46_6432_11eb_a827_50e085b850aarow0_col9 {\n",
       "            font-size:  8pt;\n",
       "        }    #T_881a9b46_6432_11eb_a827_50e085b850aarow0_col10 {\n",
       "            font-size:  8pt;\n",
       "        }    #T_881a9b46_6432_11eb_a827_50e085b850aarow0_col11 {\n",
       "            font-size:  8pt;\n",
       "        }    #T_881a9b46_6432_11eb_a827_50e085b850aarow0_col12 {\n",
       "            font-size:  8pt;\n",
       "        }    #T_881a9b46_6432_11eb_a827_50e085b850aarow0_col13 {\n",
       "            font-size:  8pt;\n",
       "        }    #T_881a9b46_6432_11eb_a827_50e085b850aarow0_col14 {\n",
       "            font-size:  8pt;\n",
       "        }    #T_881a9b46_6432_11eb_a827_50e085b850aarow0_col15 {\n",
       "            font-size:  8pt;\n",
       "        }    #T_881a9b46_6432_11eb_a827_50e085b850aarow0_col16 {\n",
       "            font-size:  8pt;\n",
       "        }    #T_881a9b46_6432_11eb_a827_50e085b850aarow0_col17 {\n",
       "            font-size:  8pt;\n",
       "        }    #T_881a9b46_6432_11eb_a827_50e085b850aarow1_col0 {\n",
       "            font-size:  8pt;\n",
       "        }    #T_881a9b46_6432_11eb_a827_50e085b850aarow1_col1 {\n",
       "            font-size:  8pt;\n",
       "        }    #T_881a9b46_6432_11eb_a827_50e085b850aarow1_col2 {\n",
       "            font-size:  8pt;\n",
       "        }    #T_881a9b46_6432_11eb_a827_50e085b850aarow1_col3 {\n",
       "            font-size:  8pt;\n",
       "        }    #T_881a9b46_6432_11eb_a827_50e085b850aarow1_col4 {\n",
       "            font-size:  8pt;\n",
       "        }    #T_881a9b46_6432_11eb_a827_50e085b850aarow1_col5 {\n",
       "            font-size:  8pt;\n",
       "        }    #T_881a9b46_6432_11eb_a827_50e085b850aarow1_col6 {\n",
       "            font-size:  8pt;\n",
       "        }    #T_881a9b46_6432_11eb_a827_50e085b850aarow1_col7 {\n",
       "            font-size:  8pt;\n",
       "        }    #T_881a9b46_6432_11eb_a827_50e085b850aarow1_col8 {\n",
       "            font-size:  8pt;\n",
       "        }    #T_881a9b46_6432_11eb_a827_50e085b850aarow1_col9 {\n",
       "            font-size:  8pt;\n",
       "        }    #T_881a9b46_6432_11eb_a827_50e085b850aarow1_col10 {\n",
       "            font-size:  8pt;\n",
       "        }    #T_881a9b46_6432_11eb_a827_50e085b850aarow1_col11 {\n",
       "            font-size:  8pt;\n",
       "        }    #T_881a9b46_6432_11eb_a827_50e085b850aarow1_col12 {\n",
       "            font-size:  8pt;\n",
       "        }    #T_881a9b46_6432_11eb_a827_50e085b850aarow1_col13 {\n",
       "            font-size:  8pt;\n",
       "        }    #T_881a9b46_6432_11eb_a827_50e085b850aarow1_col14 {\n",
       "            font-size:  8pt;\n",
       "        }    #T_881a9b46_6432_11eb_a827_50e085b850aarow1_col15 {\n",
       "            font-size:  8pt;\n",
       "        }    #T_881a9b46_6432_11eb_a827_50e085b850aarow1_col16 {\n",
       "            font-size:  8pt;\n",
       "        }    #T_881a9b46_6432_11eb_a827_50e085b850aarow1_col17 {\n",
       "            font-size:  8pt;\n",
       "        }    #T_881a9b46_6432_11eb_a827_50e085b850aarow2_col0 {\n",
       "            font-size:  8pt;\n",
       "        }    #T_881a9b46_6432_11eb_a827_50e085b850aarow2_col1 {\n",
       "            font-size:  8pt;\n",
       "        }    #T_881a9b46_6432_11eb_a827_50e085b850aarow2_col2 {\n",
       "            font-size:  8pt;\n",
       "        }    #T_881a9b46_6432_11eb_a827_50e085b850aarow2_col3 {\n",
       "            font-size:  8pt;\n",
       "        }    #T_881a9b46_6432_11eb_a827_50e085b850aarow2_col4 {\n",
       "            font-size:  8pt;\n",
       "        }    #T_881a9b46_6432_11eb_a827_50e085b850aarow2_col5 {\n",
       "            font-size:  8pt;\n",
       "        }    #T_881a9b46_6432_11eb_a827_50e085b850aarow2_col6 {\n",
       "            font-size:  8pt;\n",
       "        }    #T_881a9b46_6432_11eb_a827_50e085b850aarow2_col7 {\n",
       "            font-size:  8pt;\n",
       "        }    #T_881a9b46_6432_11eb_a827_50e085b850aarow2_col8 {\n",
       "            font-size:  8pt;\n",
       "        }    #T_881a9b46_6432_11eb_a827_50e085b850aarow2_col9 {\n",
       "            font-size:  8pt;\n",
       "        }    #T_881a9b46_6432_11eb_a827_50e085b850aarow2_col10 {\n",
       "            font-size:  8pt;\n",
       "        }    #T_881a9b46_6432_11eb_a827_50e085b850aarow2_col11 {\n",
       "            font-size:  8pt;\n",
       "        }    #T_881a9b46_6432_11eb_a827_50e085b850aarow2_col12 {\n",
       "            font-size:  8pt;\n",
       "        }    #T_881a9b46_6432_11eb_a827_50e085b850aarow2_col13 {\n",
       "            font-size:  8pt;\n",
       "        }    #T_881a9b46_6432_11eb_a827_50e085b850aarow2_col14 {\n",
       "            font-size:  8pt;\n",
       "        }    #T_881a9b46_6432_11eb_a827_50e085b850aarow2_col15 {\n",
       "            font-size:  8pt;\n",
       "        }    #T_881a9b46_6432_11eb_a827_50e085b850aarow2_col16 {\n",
       "            font-size:  8pt;\n",
       "        }    #T_881a9b46_6432_11eb_a827_50e085b850aarow2_col17 {\n",
       "            font-size:  8pt;\n",
       "        }    #T_881a9b46_6432_11eb_a827_50e085b850aarow3_col0 {\n",
       "            font-size:  8pt;\n",
       "        }    #T_881a9b46_6432_11eb_a827_50e085b850aarow3_col1 {\n",
       "            font-size:  8pt;\n",
       "        }    #T_881a9b46_6432_11eb_a827_50e085b850aarow3_col2 {\n",
       "            font-size:  8pt;\n",
       "        }    #T_881a9b46_6432_11eb_a827_50e085b850aarow3_col3 {\n",
       "            font-size:  8pt;\n",
       "        }    #T_881a9b46_6432_11eb_a827_50e085b850aarow3_col4 {\n",
       "            font-size:  8pt;\n",
       "        }    #T_881a9b46_6432_11eb_a827_50e085b850aarow3_col5 {\n",
       "            font-size:  8pt;\n",
       "        }    #T_881a9b46_6432_11eb_a827_50e085b850aarow3_col6 {\n",
       "            font-size:  8pt;\n",
       "        }    #T_881a9b46_6432_11eb_a827_50e085b850aarow3_col7 {\n",
       "            font-size:  8pt;\n",
       "        }    #T_881a9b46_6432_11eb_a827_50e085b850aarow3_col8 {\n",
       "            font-size:  8pt;\n",
       "        }    #T_881a9b46_6432_11eb_a827_50e085b850aarow3_col9 {\n",
       "            font-size:  8pt;\n",
       "        }    #T_881a9b46_6432_11eb_a827_50e085b850aarow3_col10 {\n",
       "            font-size:  8pt;\n",
       "        }    #T_881a9b46_6432_11eb_a827_50e085b850aarow3_col11 {\n",
       "            font-size:  8pt;\n",
       "        }    #T_881a9b46_6432_11eb_a827_50e085b850aarow3_col12 {\n",
       "            font-size:  8pt;\n",
       "        }    #T_881a9b46_6432_11eb_a827_50e085b850aarow3_col13 {\n",
       "            font-size:  8pt;\n",
       "        }    #T_881a9b46_6432_11eb_a827_50e085b850aarow3_col14 {\n",
       "            font-size:  8pt;\n",
       "        }    #T_881a9b46_6432_11eb_a827_50e085b850aarow3_col15 {\n",
       "            font-size:  8pt;\n",
       "        }    #T_881a9b46_6432_11eb_a827_50e085b850aarow3_col16 {\n",
       "            font-size:  8pt;\n",
       "        }    #T_881a9b46_6432_11eb_a827_50e085b850aarow3_col17 {\n",
       "            font-size:  8pt;\n",
       "        }    #T_881a9b46_6432_11eb_a827_50e085b850aarow4_col0 {\n",
       "            font-size:  8pt;\n",
       "        }    #T_881a9b46_6432_11eb_a827_50e085b850aarow4_col1 {\n",
       "            font-size:  8pt;\n",
       "        }    #T_881a9b46_6432_11eb_a827_50e085b850aarow4_col2 {\n",
       "            font-size:  8pt;\n",
       "        }    #T_881a9b46_6432_11eb_a827_50e085b850aarow4_col3 {\n",
       "            font-size:  8pt;\n",
       "        }    #T_881a9b46_6432_11eb_a827_50e085b850aarow4_col4 {\n",
       "            font-size:  8pt;\n",
       "        }    #T_881a9b46_6432_11eb_a827_50e085b850aarow4_col5 {\n",
       "            font-size:  8pt;\n",
       "        }    #T_881a9b46_6432_11eb_a827_50e085b850aarow4_col6 {\n",
       "            font-size:  8pt;\n",
       "        }    #T_881a9b46_6432_11eb_a827_50e085b850aarow4_col7 {\n",
       "            font-size:  8pt;\n",
       "        }    #T_881a9b46_6432_11eb_a827_50e085b850aarow4_col8 {\n",
       "            font-size:  8pt;\n",
       "        }    #T_881a9b46_6432_11eb_a827_50e085b850aarow4_col9 {\n",
       "            font-size:  8pt;\n",
       "        }    #T_881a9b46_6432_11eb_a827_50e085b850aarow4_col10 {\n",
       "            font-size:  8pt;\n",
       "        }    #T_881a9b46_6432_11eb_a827_50e085b850aarow4_col11 {\n",
       "            font-size:  8pt;\n",
       "        }    #T_881a9b46_6432_11eb_a827_50e085b850aarow4_col12 {\n",
       "            font-size:  8pt;\n",
       "        }    #T_881a9b46_6432_11eb_a827_50e085b850aarow4_col13 {\n",
       "            font-size:  8pt;\n",
       "        }    #T_881a9b46_6432_11eb_a827_50e085b850aarow4_col14 {\n",
       "            font-size:  8pt;\n",
       "        }    #T_881a9b46_6432_11eb_a827_50e085b850aarow4_col15 {\n",
       "            font-size:  8pt;\n",
       "        }    #T_881a9b46_6432_11eb_a827_50e085b850aarow4_col16 {\n",
       "            font-size:  8pt;\n",
       "        }    #T_881a9b46_6432_11eb_a827_50e085b850aarow4_col17 {\n",
       "            font-size:  8pt;\n",
       "        }    #T_881a9b46_6432_11eb_a827_50e085b850aarow5_col0 {\n",
       "            font-size:  8pt;\n",
       "        }    #T_881a9b46_6432_11eb_a827_50e085b850aarow5_col1 {\n",
       "            font-size:  8pt;\n",
       "        }    #T_881a9b46_6432_11eb_a827_50e085b850aarow5_col2 {\n",
       "            font-size:  8pt;\n",
       "        }    #T_881a9b46_6432_11eb_a827_50e085b850aarow5_col3 {\n",
       "            font-size:  8pt;\n",
       "        }    #T_881a9b46_6432_11eb_a827_50e085b850aarow5_col4 {\n",
       "            font-size:  8pt;\n",
       "        }    #T_881a9b46_6432_11eb_a827_50e085b850aarow5_col5 {\n",
       "            font-size:  8pt;\n",
       "        }    #T_881a9b46_6432_11eb_a827_50e085b850aarow5_col6 {\n",
       "            font-size:  8pt;\n",
       "        }    #T_881a9b46_6432_11eb_a827_50e085b850aarow5_col7 {\n",
       "            font-size:  8pt;\n",
       "        }    #T_881a9b46_6432_11eb_a827_50e085b850aarow5_col8 {\n",
       "            font-size:  8pt;\n",
       "        }    #T_881a9b46_6432_11eb_a827_50e085b850aarow5_col9 {\n",
       "            font-size:  8pt;\n",
       "        }    #T_881a9b46_6432_11eb_a827_50e085b850aarow5_col10 {\n",
       "            font-size:  8pt;\n",
       "        }    #T_881a9b46_6432_11eb_a827_50e085b850aarow5_col11 {\n",
       "            font-size:  8pt;\n",
       "        }    #T_881a9b46_6432_11eb_a827_50e085b850aarow5_col12 {\n",
       "            font-size:  8pt;\n",
       "        }    #T_881a9b46_6432_11eb_a827_50e085b850aarow5_col13 {\n",
       "            font-size:  8pt;\n",
       "        }    #T_881a9b46_6432_11eb_a827_50e085b850aarow5_col14 {\n",
       "            font-size:  8pt;\n",
       "        }    #T_881a9b46_6432_11eb_a827_50e085b850aarow5_col15 {\n",
       "            font-size:  8pt;\n",
       "        }    #T_881a9b46_6432_11eb_a827_50e085b850aarow5_col16 {\n",
       "            font-size:  8pt;\n",
       "        }    #T_881a9b46_6432_11eb_a827_50e085b850aarow5_col17 {\n",
       "            font-size:  8pt;\n",
       "        }    #T_881a9b46_6432_11eb_a827_50e085b850aarow6_col0 {\n",
       "            font-size:  8pt;\n",
       "        }    #T_881a9b46_6432_11eb_a827_50e085b850aarow6_col1 {\n",
       "            font-size:  8pt;\n",
       "        }    #T_881a9b46_6432_11eb_a827_50e085b850aarow6_col2 {\n",
       "            font-size:  8pt;\n",
       "        }    #T_881a9b46_6432_11eb_a827_50e085b850aarow6_col3 {\n",
       "            font-size:  8pt;\n",
       "        }    #T_881a9b46_6432_11eb_a827_50e085b850aarow6_col4 {\n",
       "            font-size:  8pt;\n",
       "        }    #T_881a9b46_6432_11eb_a827_50e085b850aarow6_col5 {\n",
       "            font-size:  8pt;\n",
       "        }    #T_881a9b46_6432_11eb_a827_50e085b850aarow6_col6 {\n",
       "            font-size:  8pt;\n",
       "        }    #T_881a9b46_6432_11eb_a827_50e085b850aarow6_col7 {\n",
       "            font-size:  8pt;\n",
       "        }    #T_881a9b46_6432_11eb_a827_50e085b850aarow6_col8 {\n",
       "            font-size:  8pt;\n",
       "        }    #T_881a9b46_6432_11eb_a827_50e085b850aarow6_col9 {\n",
       "            font-size:  8pt;\n",
       "        }    #T_881a9b46_6432_11eb_a827_50e085b850aarow6_col10 {\n",
       "            font-size:  8pt;\n",
       "        }    #T_881a9b46_6432_11eb_a827_50e085b850aarow6_col11 {\n",
       "            font-size:  8pt;\n",
       "        }    #T_881a9b46_6432_11eb_a827_50e085b850aarow6_col12 {\n",
       "            font-size:  8pt;\n",
       "        }    #T_881a9b46_6432_11eb_a827_50e085b850aarow6_col13 {\n",
       "            font-size:  8pt;\n",
       "        }    #T_881a9b46_6432_11eb_a827_50e085b850aarow6_col14 {\n",
       "            font-size:  8pt;\n",
       "        }    #T_881a9b46_6432_11eb_a827_50e085b850aarow6_col15 {\n",
       "            font-size:  8pt;\n",
       "        }    #T_881a9b46_6432_11eb_a827_50e085b850aarow6_col16 {\n",
       "            font-size:  8pt;\n",
       "        }    #T_881a9b46_6432_11eb_a827_50e085b850aarow6_col17 {\n",
       "            font-size:  8pt;\n",
       "        }    #T_881a9b46_6432_11eb_a827_50e085b850aarow7_col0 {\n",
       "            font-size:  8pt;\n",
       "        }    #T_881a9b46_6432_11eb_a827_50e085b850aarow7_col1 {\n",
       "            font-size:  8pt;\n",
       "        }    #T_881a9b46_6432_11eb_a827_50e085b850aarow7_col2 {\n",
       "            font-size:  8pt;\n",
       "        }    #T_881a9b46_6432_11eb_a827_50e085b850aarow7_col3 {\n",
       "            font-size:  8pt;\n",
       "        }    #T_881a9b46_6432_11eb_a827_50e085b850aarow7_col4 {\n",
       "            font-size:  8pt;\n",
       "        }    #T_881a9b46_6432_11eb_a827_50e085b850aarow7_col5 {\n",
       "            font-size:  8pt;\n",
       "        }    #T_881a9b46_6432_11eb_a827_50e085b850aarow7_col6 {\n",
       "            font-size:  8pt;\n",
       "        }    #T_881a9b46_6432_11eb_a827_50e085b850aarow7_col7 {\n",
       "            font-size:  8pt;\n",
       "        }    #T_881a9b46_6432_11eb_a827_50e085b850aarow7_col8 {\n",
       "            font-size:  8pt;\n",
       "        }    #T_881a9b46_6432_11eb_a827_50e085b850aarow7_col9 {\n",
       "            font-size:  8pt;\n",
       "        }    #T_881a9b46_6432_11eb_a827_50e085b850aarow7_col10 {\n",
       "            font-size:  8pt;\n",
       "        }    #T_881a9b46_6432_11eb_a827_50e085b850aarow7_col11 {\n",
       "            font-size:  8pt;\n",
       "        }    #T_881a9b46_6432_11eb_a827_50e085b850aarow7_col12 {\n",
       "            font-size:  8pt;\n",
       "        }    #T_881a9b46_6432_11eb_a827_50e085b850aarow7_col13 {\n",
       "            font-size:  8pt;\n",
       "        }    #T_881a9b46_6432_11eb_a827_50e085b850aarow7_col14 {\n",
       "            font-size:  8pt;\n",
       "        }    #T_881a9b46_6432_11eb_a827_50e085b850aarow7_col15 {\n",
       "            font-size:  8pt;\n",
       "        }    #T_881a9b46_6432_11eb_a827_50e085b850aarow7_col16 {\n",
       "            font-size:  8pt;\n",
       "        }    #T_881a9b46_6432_11eb_a827_50e085b850aarow7_col17 {\n",
       "            font-size:  8pt;\n",
       "        }    #T_881a9b46_6432_11eb_a827_50e085b850aarow8_col0 {\n",
       "            font-size:  8pt;\n",
       "        }    #T_881a9b46_6432_11eb_a827_50e085b850aarow8_col1 {\n",
       "            font-size:  8pt;\n",
       "        }    #T_881a9b46_6432_11eb_a827_50e085b850aarow8_col2 {\n",
       "            font-size:  8pt;\n",
       "        }    #T_881a9b46_6432_11eb_a827_50e085b850aarow8_col3 {\n",
       "            font-size:  8pt;\n",
       "        }    #T_881a9b46_6432_11eb_a827_50e085b850aarow8_col4 {\n",
       "            font-size:  8pt;\n",
       "        }    #T_881a9b46_6432_11eb_a827_50e085b850aarow8_col5 {\n",
       "            font-size:  8pt;\n",
       "        }    #T_881a9b46_6432_11eb_a827_50e085b850aarow8_col6 {\n",
       "            font-size:  8pt;\n",
       "        }    #T_881a9b46_6432_11eb_a827_50e085b850aarow8_col7 {\n",
       "            font-size:  8pt;\n",
       "        }    #T_881a9b46_6432_11eb_a827_50e085b850aarow8_col8 {\n",
       "            font-size:  8pt;\n",
       "        }    #T_881a9b46_6432_11eb_a827_50e085b850aarow8_col9 {\n",
       "            font-size:  8pt;\n",
       "        }    #T_881a9b46_6432_11eb_a827_50e085b850aarow8_col10 {\n",
       "            font-size:  8pt;\n",
       "        }    #T_881a9b46_6432_11eb_a827_50e085b850aarow8_col11 {\n",
       "            font-size:  8pt;\n",
       "        }    #T_881a9b46_6432_11eb_a827_50e085b850aarow8_col12 {\n",
       "            font-size:  8pt;\n",
       "        }    #T_881a9b46_6432_11eb_a827_50e085b850aarow8_col13 {\n",
       "            font-size:  8pt;\n",
       "        }    #T_881a9b46_6432_11eb_a827_50e085b850aarow8_col14 {\n",
       "            font-size:  8pt;\n",
       "        }    #T_881a9b46_6432_11eb_a827_50e085b850aarow8_col15 {\n",
       "            font-size:  8pt;\n",
       "        }    #T_881a9b46_6432_11eb_a827_50e085b850aarow8_col16 {\n",
       "            font-size:  8pt;\n",
       "        }    #T_881a9b46_6432_11eb_a827_50e085b850aarow8_col17 {\n",
       "            font-size:  8pt;\n",
       "        }    #T_881a9b46_6432_11eb_a827_50e085b850aarow9_col0 {\n",
       "            font-size:  8pt;\n",
       "        }    #T_881a9b46_6432_11eb_a827_50e085b850aarow9_col1 {\n",
       "            font-size:  8pt;\n",
       "        }    #T_881a9b46_6432_11eb_a827_50e085b850aarow9_col2 {\n",
       "            font-size:  8pt;\n",
       "        }    #T_881a9b46_6432_11eb_a827_50e085b850aarow9_col3 {\n",
       "            font-size:  8pt;\n",
       "        }    #T_881a9b46_6432_11eb_a827_50e085b850aarow9_col4 {\n",
       "            font-size:  8pt;\n",
       "        }    #T_881a9b46_6432_11eb_a827_50e085b850aarow9_col5 {\n",
       "            font-size:  8pt;\n",
       "        }    #T_881a9b46_6432_11eb_a827_50e085b850aarow9_col6 {\n",
       "            font-size:  8pt;\n",
       "        }    #T_881a9b46_6432_11eb_a827_50e085b850aarow9_col7 {\n",
       "            font-size:  8pt;\n",
       "        }    #T_881a9b46_6432_11eb_a827_50e085b850aarow9_col8 {\n",
       "            font-size:  8pt;\n",
       "        }    #T_881a9b46_6432_11eb_a827_50e085b850aarow9_col9 {\n",
       "            font-size:  8pt;\n",
       "        }    #T_881a9b46_6432_11eb_a827_50e085b850aarow9_col10 {\n",
       "            font-size:  8pt;\n",
       "        }    #T_881a9b46_6432_11eb_a827_50e085b850aarow9_col11 {\n",
       "            font-size:  8pt;\n",
       "        }    #T_881a9b46_6432_11eb_a827_50e085b850aarow9_col12 {\n",
       "            font-size:  8pt;\n",
       "        }    #T_881a9b46_6432_11eb_a827_50e085b850aarow9_col13 {\n",
       "            font-size:  8pt;\n",
       "        }    #T_881a9b46_6432_11eb_a827_50e085b850aarow9_col14 {\n",
       "            font-size:  8pt;\n",
       "        }    #T_881a9b46_6432_11eb_a827_50e085b850aarow9_col15 {\n",
       "            font-size:  8pt;\n",
       "        }    #T_881a9b46_6432_11eb_a827_50e085b850aarow9_col16 {\n",
       "            font-size:  8pt;\n",
       "        }    #T_881a9b46_6432_11eb_a827_50e085b850aarow9_col17 {\n",
       "            font-size:  8pt;\n",
       "        }    #T_881a9b46_6432_11eb_a827_50e085b850aarow10_col0 {\n",
       "            font-size:  8pt;\n",
       "        }    #T_881a9b46_6432_11eb_a827_50e085b850aarow10_col1 {\n",
       "            font-size:  8pt;\n",
       "        }    #T_881a9b46_6432_11eb_a827_50e085b850aarow10_col2 {\n",
       "            font-size:  8pt;\n",
       "        }    #T_881a9b46_6432_11eb_a827_50e085b850aarow10_col3 {\n",
       "            font-size:  8pt;\n",
       "        }    #T_881a9b46_6432_11eb_a827_50e085b850aarow10_col4 {\n",
       "            font-size:  8pt;\n",
       "        }    #T_881a9b46_6432_11eb_a827_50e085b850aarow10_col5 {\n",
       "            font-size:  8pt;\n",
       "        }    #T_881a9b46_6432_11eb_a827_50e085b850aarow10_col6 {\n",
       "            font-size:  8pt;\n",
       "        }    #T_881a9b46_6432_11eb_a827_50e085b850aarow10_col7 {\n",
       "            font-size:  8pt;\n",
       "        }    #T_881a9b46_6432_11eb_a827_50e085b850aarow10_col8 {\n",
       "            font-size:  8pt;\n",
       "        }    #T_881a9b46_6432_11eb_a827_50e085b850aarow10_col9 {\n",
       "            font-size:  8pt;\n",
       "        }    #T_881a9b46_6432_11eb_a827_50e085b850aarow10_col10 {\n",
       "            font-size:  8pt;\n",
       "        }    #T_881a9b46_6432_11eb_a827_50e085b850aarow10_col11 {\n",
       "            font-size:  8pt;\n",
       "        }    #T_881a9b46_6432_11eb_a827_50e085b850aarow10_col12 {\n",
       "            font-size:  8pt;\n",
       "        }    #T_881a9b46_6432_11eb_a827_50e085b850aarow10_col13 {\n",
       "            font-size:  8pt;\n",
       "        }    #T_881a9b46_6432_11eb_a827_50e085b850aarow10_col14 {\n",
       "            font-size:  8pt;\n",
       "        }    #T_881a9b46_6432_11eb_a827_50e085b850aarow10_col15 {\n",
       "            font-size:  8pt;\n",
       "        }    #T_881a9b46_6432_11eb_a827_50e085b850aarow10_col16 {\n",
       "            font-size:  8pt;\n",
       "        }    #T_881a9b46_6432_11eb_a827_50e085b850aarow10_col17 {\n",
       "            font-size:  8pt;\n",
       "        }    #T_881a9b46_6432_11eb_a827_50e085b850aarow11_col0 {\n",
       "            font-size:  8pt;\n",
       "        }    #T_881a9b46_6432_11eb_a827_50e085b850aarow11_col1 {\n",
       "            font-size:  8pt;\n",
       "        }    #T_881a9b46_6432_11eb_a827_50e085b850aarow11_col2 {\n",
       "            font-size:  8pt;\n",
       "        }    #T_881a9b46_6432_11eb_a827_50e085b850aarow11_col3 {\n",
       "            font-size:  8pt;\n",
       "        }    #T_881a9b46_6432_11eb_a827_50e085b850aarow11_col4 {\n",
       "            font-size:  8pt;\n",
       "        }    #T_881a9b46_6432_11eb_a827_50e085b850aarow11_col5 {\n",
       "            font-size:  8pt;\n",
       "        }    #T_881a9b46_6432_11eb_a827_50e085b850aarow11_col6 {\n",
       "            font-size:  8pt;\n",
       "        }    #T_881a9b46_6432_11eb_a827_50e085b850aarow11_col7 {\n",
       "            font-size:  8pt;\n",
       "        }    #T_881a9b46_6432_11eb_a827_50e085b850aarow11_col8 {\n",
       "            font-size:  8pt;\n",
       "        }    #T_881a9b46_6432_11eb_a827_50e085b850aarow11_col9 {\n",
       "            font-size:  8pt;\n",
       "        }    #T_881a9b46_6432_11eb_a827_50e085b850aarow11_col10 {\n",
       "            font-size:  8pt;\n",
       "        }    #T_881a9b46_6432_11eb_a827_50e085b850aarow11_col11 {\n",
       "            font-size:  8pt;\n",
       "        }    #T_881a9b46_6432_11eb_a827_50e085b850aarow11_col12 {\n",
       "            font-size:  8pt;\n",
       "        }    #T_881a9b46_6432_11eb_a827_50e085b850aarow11_col13 {\n",
       "            font-size:  8pt;\n",
       "        }    #T_881a9b46_6432_11eb_a827_50e085b850aarow11_col14 {\n",
       "            font-size:  8pt;\n",
       "        }    #T_881a9b46_6432_11eb_a827_50e085b850aarow11_col15 {\n",
       "            font-size:  8pt;\n",
       "        }    #T_881a9b46_6432_11eb_a827_50e085b850aarow11_col16 {\n",
       "            font-size:  8pt;\n",
       "        }    #T_881a9b46_6432_11eb_a827_50e085b850aarow11_col17 {\n",
       "            font-size:  8pt;\n",
       "        }    #T_881a9b46_6432_11eb_a827_50e085b850aarow12_col0 {\n",
       "            font-size:  8pt;\n",
       "        }    #T_881a9b46_6432_11eb_a827_50e085b850aarow12_col1 {\n",
       "            font-size:  8pt;\n",
       "        }    #T_881a9b46_6432_11eb_a827_50e085b850aarow12_col2 {\n",
       "            font-size:  8pt;\n",
       "        }    #T_881a9b46_6432_11eb_a827_50e085b850aarow12_col3 {\n",
       "            font-size:  8pt;\n",
       "        }    #T_881a9b46_6432_11eb_a827_50e085b850aarow12_col4 {\n",
       "            font-size:  8pt;\n",
       "        }    #T_881a9b46_6432_11eb_a827_50e085b850aarow12_col5 {\n",
       "            font-size:  8pt;\n",
       "        }    #T_881a9b46_6432_11eb_a827_50e085b850aarow12_col6 {\n",
       "            font-size:  8pt;\n",
       "        }    #T_881a9b46_6432_11eb_a827_50e085b850aarow12_col7 {\n",
       "            font-size:  8pt;\n",
       "        }    #T_881a9b46_6432_11eb_a827_50e085b850aarow12_col8 {\n",
       "            font-size:  8pt;\n",
       "        }    #T_881a9b46_6432_11eb_a827_50e085b850aarow12_col9 {\n",
       "            font-size:  8pt;\n",
       "        }    #T_881a9b46_6432_11eb_a827_50e085b850aarow12_col10 {\n",
       "            font-size:  8pt;\n",
       "        }    #T_881a9b46_6432_11eb_a827_50e085b850aarow12_col11 {\n",
       "            font-size:  8pt;\n",
       "        }    #T_881a9b46_6432_11eb_a827_50e085b850aarow12_col12 {\n",
       "            font-size:  8pt;\n",
       "        }    #T_881a9b46_6432_11eb_a827_50e085b850aarow12_col13 {\n",
       "            font-size:  8pt;\n",
       "        }    #T_881a9b46_6432_11eb_a827_50e085b850aarow12_col14 {\n",
       "            font-size:  8pt;\n",
       "        }    #T_881a9b46_6432_11eb_a827_50e085b850aarow12_col15 {\n",
       "            font-size:  8pt;\n",
       "        }    #T_881a9b46_6432_11eb_a827_50e085b850aarow12_col16 {\n",
       "            font-size:  8pt;\n",
       "        }    #T_881a9b46_6432_11eb_a827_50e085b850aarow12_col17 {\n",
       "            font-size:  8pt;\n",
       "        }    #T_881a9b46_6432_11eb_a827_50e085b850aarow13_col0 {\n",
       "            font-size:  8pt;\n",
       "        }    #T_881a9b46_6432_11eb_a827_50e085b850aarow13_col1 {\n",
       "            font-size:  8pt;\n",
       "        }    #T_881a9b46_6432_11eb_a827_50e085b850aarow13_col2 {\n",
       "            font-size:  8pt;\n",
       "        }    #T_881a9b46_6432_11eb_a827_50e085b850aarow13_col3 {\n",
       "            font-size:  8pt;\n",
       "        }    #T_881a9b46_6432_11eb_a827_50e085b850aarow13_col4 {\n",
       "            font-size:  8pt;\n",
       "        }    #T_881a9b46_6432_11eb_a827_50e085b850aarow13_col5 {\n",
       "            font-size:  8pt;\n",
       "        }    #T_881a9b46_6432_11eb_a827_50e085b850aarow13_col6 {\n",
       "            font-size:  8pt;\n",
       "        }    #T_881a9b46_6432_11eb_a827_50e085b850aarow13_col7 {\n",
       "            font-size:  8pt;\n",
       "        }    #T_881a9b46_6432_11eb_a827_50e085b850aarow13_col8 {\n",
       "            font-size:  8pt;\n",
       "        }    #T_881a9b46_6432_11eb_a827_50e085b850aarow13_col9 {\n",
       "            font-size:  8pt;\n",
       "        }    #T_881a9b46_6432_11eb_a827_50e085b850aarow13_col10 {\n",
       "            font-size:  8pt;\n",
       "        }    #T_881a9b46_6432_11eb_a827_50e085b850aarow13_col11 {\n",
       "            font-size:  8pt;\n",
       "        }    #T_881a9b46_6432_11eb_a827_50e085b850aarow13_col12 {\n",
       "            font-size:  8pt;\n",
       "        }    #T_881a9b46_6432_11eb_a827_50e085b850aarow13_col13 {\n",
       "            font-size:  8pt;\n",
       "        }    #T_881a9b46_6432_11eb_a827_50e085b850aarow13_col14 {\n",
       "            font-size:  8pt;\n",
       "        }    #T_881a9b46_6432_11eb_a827_50e085b850aarow13_col15 {\n",
       "            font-size:  8pt;\n",
       "        }    #T_881a9b46_6432_11eb_a827_50e085b850aarow13_col16 {\n",
       "            font-size:  8pt;\n",
       "        }    #T_881a9b46_6432_11eb_a827_50e085b850aarow13_col17 {\n",
       "            font-size:  8pt;\n",
       "        }    #T_881a9b46_6432_11eb_a827_50e085b850aarow14_col0 {\n",
       "            font-size:  8pt;\n",
       "        }    #T_881a9b46_6432_11eb_a827_50e085b850aarow14_col1 {\n",
       "            font-size:  8pt;\n",
       "        }    #T_881a9b46_6432_11eb_a827_50e085b850aarow14_col2 {\n",
       "            font-size:  8pt;\n",
       "        }    #T_881a9b46_6432_11eb_a827_50e085b850aarow14_col3 {\n",
       "            font-size:  8pt;\n",
       "        }    #T_881a9b46_6432_11eb_a827_50e085b850aarow14_col4 {\n",
       "            font-size:  8pt;\n",
       "        }    #T_881a9b46_6432_11eb_a827_50e085b850aarow14_col5 {\n",
       "            font-size:  8pt;\n",
       "        }    #T_881a9b46_6432_11eb_a827_50e085b850aarow14_col6 {\n",
       "            font-size:  8pt;\n",
       "        }    #T_881a9b46_6432_11eb_a827_50e085b850aarow14_col7 {\n",
       "            font-size:  8pt;\n",
       "        }    #T_881a9b46_6432_11eb_a827_50e085b850aarow14_col8 {\n",
       "            font-size:  8pt;\n",
       "        }    #T_881a9b46_6432_11eb_a827_50e085b850aarow14_col9 {\n",
       "            font-size:  8pt;\n",
       "        }    #T_881a9b46_6432_11eb_a827_50e085b850aarow14_col10 {\n",
       "            font-size:  8pt;\n",
       "        }    #T_881a9b46_6432_11eb_a827_50e085b850aarow14_col11 {\n",
       "            font-size:  8pt;\n",
       "        }    #T_881a9b46_6432_11eb_a827_50e085b850aarow14_col12 {\n",
       "            font-size:  8pt;\n",
       "        }    #T_881a9b46_6432_11eb_a827_50e085b850aarow14_col13 {\n",
       "            font-size:  8pt;\n",
       "        }    #T_881a9b46_6432_11eb_a827_50e085b850aarow14_col14 {\n",
       "            font-size:  8pt;\n",
       "        }    #T_881a9b46_6432_11eb_a827_50e085b850aarow14_col15 {\n",
       "            font-size:  8pt;\n",
       "        }    #T_881a9b46_6432_11eb_a827_50e085b850aarow14_col16 {\n",
       "            font-size:  8pt;\n",
       "        }    #T_881a9b46_6432_11eb_a827_50e085b850aarow14_col17 {\n",
       "            font-size:  8pt;\n",
       "        }    #T_881a9b46_6432_11eb_a827_50e085b850aarow15_col0 {\n",
       "            font-size:  8pt;\n",
       "        }    #T_881a9b46_6432_11eb_a827_50e085b850aarow15_col1 {\n",
       "            font-size:  8pt;\n",
       "        }    #T_881a9b46_6432_11eb_a827_50e085b850aarow15_col2 {\n",
       "            font-size:  8pt;\n",
       "        }    #T_881a9b46_6432_11eb_a827_50e085b850aarow15_col3 {\n",
       "            font-size:  8pt;\n",
       "        }    #T_881a9b46_6432_11eb_a827_50e085b850aarow15_col4 {\n",
       "            font-size:  8pt;\n",
       "        }    #T_881a9b46_6432_11eb_a827_50e085b850aarow15_col5 {\n",
       "            font-size:  8pt;\n",
       "        }    #T_881a9b46_6432_11eb_a827_50e085b850aarow15_col6 {\n",
       "            font-size:  8pt;\n",
       "        }    #T_881a9b46_6432_11eb_a827_50e085b850aarow15_col7 {\n",
       "            font-size:  8pt;\n",
       "        }    #T_881a9b46_6432_11eb_a827_50e085b850aarow15_col8 {\n",
       "            font-size:  8pt;\n",
       "        }    #T_881a9b46_6432_11eb_a827_50e085b850aarow15_col9 {\n",
       "            font-size:  8pt;\n",
       "        }    #T_881a9b46_6432_11eb_a827_50e085b850aarow15_col10 {\n",
       "            font-size:  8pt;\n",
       "        }    #T_881a9b46_6432_11eb_a827_50e085b850aarow15_col11 {\n",
       "            font-size:  8pt;\n",
       "        }    #T_881a9b46_6432_11eb_a827_50e085b850aarow15_col12 {\n",
       "            font-size:  8pt;\n",
       "        }    #T_881a9b46_6432_11eb_a827_50e085b850aarow15_col13 {\n",
       "            font-size:  8pt;\n",
       "        }    #T_881a9b46_6432_11eb_a827_50e085b850aarow15_col14 {\n",
       "            font-size:  8pt;\n",
       "        }    #T_881a9b46_6432_11eb_a827_50e085b850aarow15_col15 {\n",
       "            font-size:  8pt;\n",
       "        }    #T_881a9b46_6432_11eb_a827_50e085b850aarow15_col16 {\n",
       "            font-size:  8pt;\n",
       "        }    #T_881a9b46_6432_11eb_a827_50e085b850aarow15_col17 {\n",
       "            font-size:  8pt;\n",
       "        }    #T_881a9b46_6432_11eb_a827_50e085b850aarow16_col0 {\n",
       "            font-size:  8pt;\n",
       "        }    #T_881a9b46_6432_11eb_a827_50e085b850aarow16_col1 {\n",
       "            font-size:  8pt;\n",
       "        }    #T_881a9b46_6432_11eb_a827_50e085b850aarow16_col2 {\n",
       "            font-size:  8pt;\n",
       "        }    #T_881a9b46_6432_11eb_a827_50e085b850aarow16_col3 {\n",
       "            font-size:  8pt;\n",
       "        }    #T_881a9b46_6432_11eb_a827_50e085b850aarow16_col4 {\n",
       "            font-size:  8pt;\n",
       "        }    #T_881a9b46_6432_11eb_a827_50e085b850aarow16_col5 {\n",
       "            font-size:  8pt;\n",
       "        }    #T_881a9b46_6432_11eb_a827_50e085b850aarow16_col6 {\n",
       "            font-size:  8pt;\n",
       "        }    #T_881a9b46_6432_11eb_a827_50e085b850aarow16_col7 {\n",
       "            font-size:  8pt;\n",
       "        }    #T_881a9b46_6432_11eb_a827_50e085b850aarow16_col8 {\n",
       "            font-size:  8pt;\n",
       "        }    #T_881a9b46_6432_11eb_a827_50e085b850aarow16_col9 {\n",
       "            font-size:  8pt;\n",
       "        }    #T_881a9b46_6432_11eb_a827_50e085b850aarow16_col10 {\n",
       "            font-size:  8pt;\n",
       "        }    #T_881a9b46_6432_11eb_a827_50e085b850aarow16_col11 {\n",
       "            font-size:  8pt;\n",
       "        }    #T_881a9b46_6432_11eb_a827_50e085b850aarow16_col12 {\n",
       "            font-size:  8pt;\n",
       "        }    #T_881a9b46_6432_11eb_a827_50e085b850aarow16_col13 {\n",
       "            font-size:  8pt;\n",
       "        }    #T_881a9b46_6432_11eb_a827_50e085b850aarow16_col14 {\n",
       "            font-size:  8pt;\n",
       "        }    #T_881a9b46_6432_11eb_a827_50e085b850aarow16_col15 {\n",
       "            font-size:  8pt;\n",
       "        }    #T_881a9b46_6432_11eb_a827_50e085b850aarow16_col16 {\n",
       "            font-size:  8pt;\n",
       "        }    #T_881a9b46_6432_11eb_a827_50e085b850aarow16_col17 {\n",
       "            font-size:  8pt;\n",
       "        }    #T_881a9b46_6432_11eb_a827_50e085b850aarow17_col0 {\n",
       "            font-size:  8pt;\n",
       "        }    #T_881a9b46_6432_11eb_a827_50e085b850aarow17_col1 {\n",
       "            font-size:  8pt;\n",
       "        }    #T_881a9b46_6432_11eb_a827_50e085b850aarow17_col2 {\n",
       "            font-size:  8pt;\n",
       "        }    #T_881a9b46_6432_11eb_a827_50e085b850aarow17_col3 {\n",
       "            font-size:  8pt;\n",
       "        }    #T_881a9b46_6432_11eb_a827_50e085b850aarow17_col4 {\n",
       "            font-size:  8pt;\n",
       "        }    #T_881a9b46_6432_11eb_a827_50e085b850aarow17_col5 {\n",
       "            font-size:  8pt;\n",
       "        }    #T_881a9b46_6432_11eb_a827_50e085b850aarow17_col6 {\n",
       "            font-size:  8pt;\n",
       "        }    #T_881a9b46_6432_11eb_a827_50e085b850aarow17_col7 {\n",
       "            font-size:  8pt;\n",
       "        }    #T_881a9b46_6432_11eb_a827_50e085b850aarow17_col8 {\n",
       "            font-size:  8pt;\n",
       "        }    #T_881a9b46_6432_11eb_a827_50e085b850aarow17_col9 {\n",
       "            font-size:  8pt;\n",
       "        }    #T_881a9b46_6432_11eb_a827_50e085b850aarow17_col10 {\n",
       "            font-size:  8pt;\n",
       "        }    #T_881a9b46_6432_11eb_a827_50e085b850aarow17_col11 {\n",
       "            font-size:  8pt;\n",
       "        }    #T_881a9b46_6432_11eb_a827_50e085b850aarow17_col12 {\n",
       "            font-size:  8pt;\n",
       "        }    #T_881a9b46_6432_11eb_a827_50e085b850aarow17_col13 {\n",
       "            font-size:  8pt;\n",
       "        }    #T_881a9b46_6432_11eb_a827_50e085b850aarow17_col14 {\n",
       "            font-size:  8pt;\n",
       "        }    #T_881a9b46_6432_11eb_a827_50e085b850aarow17_col15 {\n",
       "            font-size:  8pt;\n",
       "        }    #T_881a9b46_6432_11eb_a827_50e085b850aarow17_col16 {\n",
       "            font-size:  8pt;\n",
       "        }    #T_881a9b46_6432_11eb_a827_50e085b850aarow17_col17 {\n",
       "            font-size:  8pt;\n",
       "        }    #T_881a9b46_6432_11eb_a827_50e085b850aarow18_col0 {\n",
       "            font-size:  8pt;\n",
       "        }    #T_881a9b46_6432_11eb_a827_50e085b850aarow18_col1 {\n",
       "            font-size:  8pt;\n",
       "        }    #T_881a9b46_6432_11eb_a827_50e085b850aarow18_col2 {\n",
       "            font-size:  8pt;\n",
       "        }    #T_881a9b46_6432_11eb_a827_50e085b850aarow18_col3 {\n",
       "            font-size:  8pt;\n",
       "        }    #T_881a9b46_6432_11eb_a827_50e085b850aarow18_col4 {\n",
       "            font-size:  8pt;\n",
       "        }    #T_881a9b46_6432_11eb_a827_50e085b850aarow18_col5 {\n",
       "            font-size:  8pt;\n",
       "        }    #T_881a9b46_6432_11eb_a827_50e085b850aarow18_col6 {\n",
       "            font-size:  8pt;\n",
       "        }    #T_881a9b46_6432_11eb_a827_50e085b850aarow18_col7 {\n",
       "            font-size:  8pt;\n",
       "        }    #T_881a9b46_6432_11eb_a827_50e085b850aarow18_col8 {\n",
       "            font-size:  8pt;\n",
       "        }    #T_881a9b46_6432_11eb_a827_50e085b850aarow18_col9 {\n",
       "            font-size:  8pt;\n",
       "        }    #T_881a9b46_6432_11eb_a827_50e085b850aarow18_col10 {\n",
       "            font-size:  8pt;\n",
       "        }    #T_881a9b46_6432_11eb_a827_50e085b850aarow18_col11 {\n",
       "            font-size:  8pt;\n",
       "        }    #T_881a9b46_6432_11eb_a827_50e085b850aarow18_col12 {\n",
       "            font-size:  8pt;\n",
       "        }    #T_881a9b46_6432_11eb_a827_50e085b850aarow18_col13 {\n",
       "            font-size:  8pt;\n",
       "        }    #T_881a9b46_6432_11eb_a827_50e085b850aarow18_col14 {\n",
       "            font-size:  8pt;\n",
       "        }    #T_881a9b46_6432_11eb_a827_50e085b850aarow18_col15 {\n",
       "            font-size:  8pt;\n",
       "        }    #T_881a9b46_6432_11eb_a827_50e085b850aarow18_col16 {\n",
       "            font-size:  8pt;\n",
       "        }    #T_881a9b46_6432_11eb_a827_50e085b850aarow18_col17 {\n",
       "            font-size:  8pt;\n",
       "        }    #T_881a9b46_6432_11eb_a827_50e085b850aarow19_col0 {\n",
       "            font-size:  8pt;\n",
       "        }    #T_881a9b46_6432_11eb_a827_50e085b850aarow19_col1 {\n",
       "            font-size:  8pt;\n",
       "        }    #T_881a9b46_6432_11eb_a827_50e085b850aarow19_col2 {\n",
       "            font-size:  8pt;\n",
       "        }    #T_881a9b46_6432_11eb_a827_50e085b850aarow19_col3 {\n",
       "            font-size:  8pt;\n",
       "        }    #T_881a9b46_6432_11eb_a827_50e085b850aarow19_col4 {\n",
       "            font-size:  8pt;\n",
       "        }    #T_881a9b46_6432_11eb_a827_50e085b850aarow19_col5 {\n",
       "            font-size:  8pt;\n",
       "        }    #T_881a9b46_6432_11eb_a827_50e085b850aarow19_col6 {\n",
       "            font-size:  8pt;\n",
       "        }    #T_881a9b46_6432_11eb_a827_50e085b850aarow19_col7 {\n",
       "            font-size:  8pt;\n",
       "        }    #T_881a9b46_6432_11eb_a827_50e085b850aarow19_col8 {\n",
       "            font-size:  8pt;\n",
       "        }    #T_881a9b46_6432_11eb_a827_50e085b850aarow19_col9 {\n",
       "            font-size:  8pt;\n",
       "        }    #T_881a9b46_6432_11eb_a827_50e085b850aarow19_col10 {\n",
       "            font-size:  8pt;\n",
       "        }    #T_881a9b46_6432_11eb_a827_50e085b850aarow19_col11 {\n",
       "            font-size:  8pt;\n",
       "        }    #T_881a9b46_6432_11eb_a827_50e085b850aarow19_col12 {\n",
       "            font-size:  8pt;\n",
       "        }    #T_881a9b46_6432_11eb_a827_50e085b850aarow19_col13 {\n",
       "            font-size:  8pt;\n",
       "        }    #T_881a9b46_6432_11eb_a827_50e085b850aarow19_col14 {\n",
       "            font-size:  8pt;\n",
       "        }    #T_881a9b46_6432_11eb_a827_50e085b850aarow19_col15 {\n",
       "            font-size:  8pt;\n",
       "        }    #T_881a9b46_6432_11eb_a827_50e085b850aarow19_col16 {\n",
       "            font-size:  8pt;\n",
       "        }    #T_881a9b46_6432_11eb_a827_50e085b850aarow19_col17 {\n",
       "            font-size:  8pt;\n",
       "        }</style><table id=\"T_881a9b46_6432_11eb_a827_50e085b850aa\" ><thead>    <tr>        <th class=\"blank level0\" ></th>        <th class=\"col_heading level0 col0\" >stdev -0.1 Ffa</th>        <th class=\"col_heading level0 col1\" >stdev -0.1 Fh</th>        <th class=\"col_heading level0 col2\" >stdev -0.05 Ffa</th>        <th class=\"col_heading level0 col3\" >stdev -0.05 Fh</th>        <th class=\"col_heading level0 col4\" >stdev -0.03 Ffa</th>        <th class=\"col_heading level0 col5\" >stdev -0.03 Fh</th>        <th class=\"col_heading level0 col6\" >stdev -0.02 Ffa</th>        <th class=\"col_heading level0 col7\" >stdev -0.02 Fh</th>        <th class=\"col_heading level0 col8\" >stdev -0.01 Ffa</th>        <th class=\"col_heading level0 col9\" >stdev -0.01 Fh</th>        <th class=\"col_heading level0 col10\" >stdev -0.005 Ffa</th>        <th class=\"col_heading level0 col11\" >stdev -0.005 Fh</th>        <th class=\"col_heading level0 col12\" >stdev -0.003 Ffa</th>        <th class=\"col_heading level0 col13\" >stdev -0.003 Fh</th>        <th class=\"col_heading level0 col14\" >stdev -0.002 Ffa</th>        <th class=\"col_heading level0 col15\" >stdev -0.002 Fh</th>        <th class=\"col_heading level0 col16\" >stdev -0.001 Ffa</th>        <th class=\"col_heading level0 col17\" >stdev -0.001 Fh</th>    </tr></thead><tbody>\n",
       "                <tr>\n",
       "                        <th id=\"T_881a9b46_6432_11eb_a827_50e085b850aalevel0_row0\" class=\"row_heading level0 row0\" >A</th>\n",
       "                        <td id=\"T_881a9b46_6432_11eb_a827_50e085b850aarow0_col0\" class=\"data row0 col0\" >0</td>\n",
       "                        <td id=\"T_881a9b46_6432_11eb_a827_50e085b850aarow0_col1\" class=\"data row0 col1\" >1</td>\n",
       "                        <td id=\"T_881a9b46_6432_11eb_a827_50e085b850aarow0_col2\" class=\"data row0 col2\" >0</td>\n",
       "                        <td id=\"T_881a9b46_6432_11eb_a827_50e085b850aarow0_col3\" class=\"data row0 col3\" >1</td>\n",
       "                        <td id=\"T_881a9b46_6432_11eb_a827_50e085b850aarow0_col4\" class=\"data row0 col4\" >0</td>\n",
       "                        <td id=\"T_881a9b46_6432_11eb_a827_50e085b850aarow0_col5\" class=\"data row0 col5\" >1</td>\n",
       "                        <td id=\"T_881a9b46_6432_11eb_a827_50e085b850aarow0_col6\" class=\"data row0 col6\" >0</td>\n",
       "                        <td id=\"T_881a9b46_6432_11eb_a827_50e085b850aarow0_col7\" class=\"data row0 col7\" >1</td>\n",
       "                        <td id=\"T_881a9b46_6432_11eb_a827_50e085b850aarow0_col8\" class=\"data row0 col8\" >0</td>\n",
       "                        <td id=\"T_881a9b46_6432_11eb_a827_50e085b850aarow0_col9\" class=\"data row0 col9\" >1</td>\n",
       "                        <td id=\"T_881a9b46_6432_11eb_a827_50e085b850aarow0_col10\" class=\"data row0 col10\" >0</td>\n",
       "                        <td id=\"T_881a9b46_6432_11eb_a827_50e085b850aarow0_col11\" class=\"data row0 col11\" >1</td>\n",
       "                        <td id=\"T_881a9b46_6432_11eb_a827_50e085b850aarow0_col12\" class=\"data row0 col12\" >0</td>\n",
       "                        <td id=\"T_881a9b46_6432_11eb_a827_50e085b850aarow0_col13\" class=\"data row0 col13\" >1</td>\n",
       "                        <td id=\"T_881a9b46_6432_11eb_a827_50e085b850aarow0_col14\" class=\"data row0 col14\" >0</td>\n",
       "                        <td id=\"T_881a9b46_6432_11eb_a827_50e085b850aarow0_col15\" class=\"data row0 col15\" >1</td>\n",
       "                        <td id=\"T_881a9b46_6432_11eb_a827_50e085b850aarow0_col16\" class=\"data row0 col16\" >0</td>\n",
       "                        <td id=\"T_881a9b46_6432_11eb_a827_50e085b850aarow0_col17\" class=\"data row0 col17\" >1</td>\n",
       "            </tr>\n",
       "            <tr>\n",
       "                        <th id=\"T_881a9b46_6432_11eb_a827_50e085b850aalevel0_row1\" class=\"row_heading level0 row1\" >B</th>\n",
       "                        <td id=\"T_881a9b46_6432_11eb_a827_50e085b850aarow1_col0\" class=\"data row1 col0\" >0</td>\n",
       "                        <td id=\"T_881a9b46_6432_11eb_a827_50e085b850aarow1_col1\" class=\"data row1 col1\" >1</td>\n",
       "                        <td id=\"T_881a9b46_6432_11eb_a827_50e085b850aarow1_col2\" class=\"data row1 col2\" >0</td>\n",
       "                        <td id=\"T_881a9b46_6432_11eb_a827_50e085b850aarow1_col3\" class=\"data row1 col3\" >1</td>\n",
       "                        <td id=\"T_881a9b46_6432_11eb_a827_50e085b850aarow1_col4\" class=\"data row1 col4\" >0</td>\n",
       "                        <td id=\"T_881a9b46_6432_11eb_a827_50e085b850aarow1_col5\" class=\"data row1 col5\" >1</td>\n",
       "                        <td id=\"T_881a9b46_6432_11eb_a827_50e085b850aarow1_col6\" class=\"data row1 col6\" >0</td>\n",
       "                        <td id=\"T_881a9b46_6432_11eb_a827_50e085b850aarow1_col7\" class=\"data row1 col7\" >1</td>\n",
       "                        <td id=\"T_881a9b46_6432_11eb_a827_50e085b850aarow1_col8\" class=\"data row1 col8\" >0</td>\n",
       "                        <td id=\"T_881a9b46_6432_11eb_a827_50e085b850aarow1_col9\" class=\"data row1 col9\" >1</td>\n",
       "                        <td id=\"T_881a9b46_6432_11eb_a827_50e085b850aarow1_col10\" class=\"data row1 col10\" >0</td>\n",
       "                        <td id=\"T_881a9b46_6432_11eb_a827_50e085b850aarow1_col11\" class=\"data row1 col11\" >1</td>\n",
       "                        <td id=\"T_881a9b46_6432_11eb_a827_50e085b850aarow1_col12\" class=\"data row1 col12\" >0</td>\n",
       "                        <td id=\"T_881a9b46_6432_11eb_a827_50e085b850aarow1_col13\" class=\"data row1 col13\" >1</td>\n",
       "                        <td id=\"T_881a9b46_6432_11eb_a827_50e085b850aarow1_col14\" class=\"data row1 col14\" >0</td>\n",
       "                        <td id=\"T_881a9b46_6432_11eb_a827_50e085b850aarow1_col15\" class=\"data row1 col15\" >1</td>\n",
       "                        <td id=\"T_881a9b46_6432_11eb_a827_50e085b850aarow1_col16\" class=\"data row1 col16\" >0</td>\n",
       "                        <td id=\"T_881a9b46_6432_11eb_a827_50e085b850aarow1_col17\" class=\"data row1 col17\" >1</td>\n",
       "            </tr>\n",
       "            <tr>\n",
       "                        <th id=\"T_881a9b46_6432_11eb_a827_50e085b850aalevel0_row2\" class=\"row_heading level0 row2\" >C</th>\n",
       "                        <td id=\"T_881a9b46_6432_11eb_a827_50e085b850aarow2_col0\" class=\"data row2 col0\" >0.0208333</td>\n",
       "                        <td id=\"T_881a9b46_6432_11eb_a827_50e085b850aarow2_col1\" class=\"data row2 col1\" >0.908654</td>\n",
       "                        <td id=\"T_881a9b46_6432_11eb_a827_50e085b850aarow2_col2\" class=\"data row2 col2\" >0.0208333</td>\n",
       "                        <td id=\"T_881a9b46_6432_11eb_a827_50e085b850aarow2_col3\" class=\"data row2 col3\" >0.923077</td>\n",
       "                        <td id=\"T_881a9b46_6432_11eb_a827_50e085b850aarow2_col4\" class=\"data row2 col4\" >0.0208333</td>\n",
       "                        <td id=\"T_881a9b46_6432_11eb_a827_50e085b850aarow2_col5\" class=\"data row2 col5\" >0.927885</td>\n",
       "                        <td id=\"T_881a9b46_6432_11eb_a827_50e085b850aarow2_col6\" class=\"data row2 col6\" >0.0208333</td>\n",
       "                        <td id=\"T_881a9b46_6432_11eb_a827_50e085b850aarow2_col7\" class=\"data row2 col7\" >0.913462</td>\n",
       "                        <td id=\"T_881a9b46_6432_11eb_a827_50e085b850aarow2_col8\" class=\"data row2 col8\" >0.0208333</td>\n",
       "                        <td id=\"T_881a9b46_6432_11eb_a827_50e085b850aarow2_col9\" class=\"data row2 col9\" >0.908654</td>\n",
       "                        <td id=\"T_881a9b46_6432_11eb_a827_50e085b850aarow2_col10\" class=\"data row2 col10\" >0.0208333</td>\n",
       "                        <td id=\"T_881a9b46_6432_11eb_a827_50e085b850aarow2_col11\" class=\"data row2 col11\" >0.923077</td>\n",
       "                        <td id=\"T_881a9b46_6432_11eb_a827_50e085b850aarow2_col12\" class=\"data row2 col12\" >0.0208333</td>\n",
       "                        <td id=\"T_881a9b46_6432_11eb_a827_50e085b850aarow2_col13\" class=\"data row2 col13\" >0.923077</td>\n",
       "                        <td id=\"T_881a9b46_6432_11eb_a827_50e085b850aarow2_col14\" class=\"data row2 col14\" >0.0208333</td>\n",
       "                        <td id=\"T_881a9b46_6432_11eb_a827_50e085b850aarow2_col15\" class=\"data row2 col15\" >0.927885</td>\n",
       "                        <td id=\"T_881a9b46_6432_11eb_a827_50e085b850aarow2_col16\" class=\"data row2 col16\" >0.0208333</td>\n",
       "                        <td id=\"T_881a9b46_6432_11eb_a827_50e085b850aarow2_col17\" class=\"data row2 col17\" >0.908654</td>\n",
       "            </tr>\n",
       "            <tr>\n",
       "                        <th id=\"T_881a9b46_6432_11eb_a827_50e085b850aalevel0_row3\" class=\"row_heading level0 row3\" >D</th>\n",
       "                        <td id=\"T_881a9b46_6432_11eb_a827_50e085b850aarow3_col0\" class=\"data row3 col0\" >0</td>\n",
       "                        <td id=\"T_881a9b46_6432_11eb_a827_50e085b850aarow3_col1\" class=\"data row3 col1\" >1</td>\n",
       "                        <td id=\"T_881a9b46_6432_11eb_a827_50e085b850aarow3_col2\" class=\"data row3 col2\" >0</td>\n",
       "                        <td id=\"T_881a9b46_6432_11eb_a827_50e085b850aarow3_col3\" class=\"data row3 col3\" >1</td>\n",
       "                        <td id=\"T_881a9b46_6432_11eb_a827_50e085b850aarow3_col4\" class=\"data row3 col4\" >0</td>\n",
       "                        <td id=\"T_881a9b46_6432_11eb_a827_50e085b850aarow3_col5\" class=\"data row3 col5\" >1</td>\n",
       "                        <td id=\"T_881a9b46_6432_11eb_a827_50e085b850aarow3_col6\" class=\"data row3 col6\" >0</td>\n",
       "                        <td id=\"T_881a9b46_6432_11eb_a827_50e085b850aarow3_col7\" class=\"data row3 col7\" >1</td>\n",
       "                        <td id=\"T_881a9b46_6432_11eb_a827_50e085b850aarow3_col8\" class=\"data row3 col8\" >0</td>\n",
       "                        <td id=\"T_881a9b46_6432_11eb_a827_50e085b850aarow3_col9\" class=\"data row3 col9\" >1</td>\n",
       "                        <td id=\"T_881a9b46_6432_11eb_a827_50e085b850aarow3_col10\" class=\"data row3 col10\" >0</td>\n",
       "                        <td id=\"T_881a9b46_6432_11eb_a827_50e085b850aarow3_col11\" class=\"data row3 col11\" >1</td>\n",
       "                        <td id=\"T_881a9b46_6432_11eb_a827_50e085b850aarow3_col12\" class=\"data row3 col12\" >0</td>\n",
       "                        <td id=\"T_881a9b46_6432_11eb_a827_50e085b850aarow3_col13\" class=\"data row3 col13\" >1</td>\n",
       "                        <td id=\"T_881a9b46_6432_11eb_a827_50e085b850aarow3_col14\" class=\"data row3 col14\" >0</td>\n",
       "                        <td id=\"T_881a9b46_6432_11eb_a827_50e085b850aarow3_col15\" class=\"data row3 col15\" >1</td>\n",
       "                        <td id=\"T_881a9b46_6432_11eb_a827_50e085b850aarow3_col16\" class=\"data row3 col16\" >0</td>\n",
       "                        <td id=\"T_881a9b46_6432_11eb_a827_50e085b850aarow3_col17\" class=\"data row3 col17\" >1</td>\n",
       "            </tr>\n",
       "            <tr>\n",
       "                        <th id=\"T_881a9b46_6432_11eb_a827_50e085b850aalevel0_row4\" class=\"row_heading level0 row4\" >E</th>\n",
       "                        <td id=\"T_881a9b46_6432_11eb_a827_50e085b850aarow4_col0\" class=\"data row4 col0\" >0</td>\n",
       "                        <td id=\"T_881a9b46_6432_11eb_a827_50e085b850aarow4_col1\" class=\"data row4 col1\" >1</td>\n",
       "                        <td id=\"T_881a9b46_6432_11eb_a827_50e085b850aarow4_col2\" class=\"data row4 col2\" >0</td>\n",
       "                        <td id=\"T_881a9b46_6432_11eb_a827_50e085b850aarow4_col3\" class=\"data row4 col3\" >1</td>\n",
       "                        <td id=\"T_881a9b46_6432_11eb_a827_50e085b850aarow4_col4\" class=\"data row4 col4\" >0</td>\n",
       "                        <td id=\"T_881a9b46_6432_11eb_a827_50e085b850aarow4_col5\" class=\"data row4 col5\" >0.994845</td>\n",
       "                        <td id=\"T_881a9b46_6432_11eb_a827_50e085b850aarow4_col6\" class=\"data row4 col6\" >0</td>\n",
       "                        <td id=\"T_881a9b46_6432_11eb_a827_50e085b850aarow4_col7\" class=\"data row4 col7\" >1</td>\n",
       "                        <td id=\"T_881a9b46_6432_11eb_a827_50e085b850aarow4_col8\" class=\"data row4 col8\" >0</td>\n",
       "                        <td id=\"T_881a9b46_6432_11eb_a827_50e085b850aarow4_col9\" class=\"data row4 col9\" >1</td>\n",
       "                        <td id=\"T_881a9b46_6432_11eb_a827_50e085b850aarow4_col10\" class=\"data row4 col10\" >0</td>\n",
       "                        <td id=\"T_881a9b46_6432_11eb_a827_50e085b850aarow4_col11\" class=\"data row4 col11\" >1</td>\n",
       "                        <td id=\"T_881a9b46_6432_11eb_a827_50e085b850aarow4_col12\" class=\"data row4 col12\" >0</td>\n",
       "                        <td id=\"T_881a9b46_6432_11eb_a827_50e085b850aarow4_col13\" class=\"data row4 col13\" >1</td>\n",
       "                        <td id=\"T_881a9b46_6432_11eb_a827_50e085b850aarow4_col14\" class=\"data row4 col14\" >0</td>\n",
       "                        <td id=\"T_881a9b46_6432_11eb_a827_50e085b850aarow4_col15\" class=\"data row4 col15\" >0.989691</td>\n",
       "                        <td id=\"T_881a9b46_6432_11eb_a827_50e085b850aarow4_col16\" class=\"data row4 col16\" >0</td>\n",
       "                        <td id=\"T_881a9b46_6432_11eb_a827_50e085b850aarow4_col17\" class=\"data row4 col17\" >0.989691</td>\n",
       "            </tr>\n",
       "            <tr>\n",
       "                        <th id=\"T_881a9b46_6432_11eb_a827_50e085b850aalevel0_row5\" class=\"row_heading level0 row5\" >F</th>\n",
       "                        <td id=\"T_881a9b46_6432_11eb_a827_50e085b850aarow5_col0\" class=\"data row5 col0\" >0</td>\n",
       "                        <td id=\"T_881a9b46_6432_11eb_a827_50e085b850aarow5_col1\" class=\"data row5 col1\" >0.955665</td>\n",
       "                        <td id=\"T_881a9b46_6432_11eb_a827_50e085b850aarow5_col2\" class=\"data row5 col2\" >0</td>\n",
       "                        <td id=\"T_881a9b46_6432_11eb_a827_50e085b850aarow5_col3\" class=\"data row5 col3\" >0.950739</td>\n",
       "                        <td id=\"T_881a9b46_6432_11eb_a827_50e085b850aarow5_col4\" class=\"data row5 col4\" >0</td>\n",
       "                        <td id=\"T_881a9b46_6432_11eb_a827_50e085b850aarow5_col5\" class=\"data row5 col5\" >0.940887</td>\n",
       "                        <td id=\"T_881a9b46_6432_11eb_a827_50e085b850aarow5_col6\" class=\"data row5 col6\" >0</td>\n",
       "                        <td id=\"T_881a9b46_6432_11eb_a827_50e085b850aarow5_col7\" class=\"data row5 col7\" >0.955665</td>\n",
       "                        <td id=\"T_881a9b46_6432_11eb_a827_50e085b850aarow5_col8\" class=\"data row5 col8\" >0</td>\n",
       "                        <td id=\"T_881a9b46_6432_11eb_a827_50e085b850aarow5_col9\" class=\"data row5 col9\" >0.955665</td>\n",
       "                        <td id=\"T_881a9b46_6432_11eb_a827_50e085b850aarow5_col10\" class=\"data row5 col10\" >0</td>\n",
       "                        <td id=\"T_881a9b46_6432_11eb_a827_50e085b850aarow5_col11\" class=\"data row5 col11\" >0.955665</td>\n",
       "                        <td id=\"T_881a9b46_6432_11eb_a827_50e085b850aarow5_col12\" class=\"data row5 col12\" >0</td>\n",
       "                        <td id=\"T_881a9b46_6432_11eb_a827_50e085b850aarow5_col13\" class=\"data row5 col13\" >0.955665</td>\n",
       "                        <td id=\"T_881a9b46_6432_11eb_a827_50e085b850aarow5_col14\" class=\"data row5 col14\" >0</td>\n",
       "                        <td id=\"T_881a9b46_6432_11eb_a827_50e085b850aarow5_col15\" class=\"data row5 col15\" >0.935961</td>\n",
       "                        <td id=\"T_881a9b46_6432_11eb_a827_50e085b850aarow5_col16\" class=\"data row5 col16\" >0</td>\n",
       "                        <td id=\"T_881a9b46_6432_11eb_a827_50e085b850aarow5_col17\" class=\"data row5 col17\" >0.921182</td>\n",
       "            </tr>\n",
       "            <tr>\n",
       "                        <th id=\"T_881a9b46_6432_11eb_a827_50e085b850aalevel0_row6\" class=\"row_heading level0 row6\" >G</th>\n",
       "                        <td id=\"T_881a9b46_6432_11eb_a827_50e085b850aarow6_col0\" class=\"data row6 col0\" >0</td>\n",
       "                        <td id=\"T_881a9b46_6432_11eb_a827_50e085b850aarow6_col1\" class=\"data row6 col1\" >1</td>\n",
       "                        <td id=\"T_881a9b46_6432_11eb_a827_50e085b850aarow6_col2\" class=\"data row6 col2\" >0</td>\n",
       "                        <td id=\"T_881a9b46_6432_11eb_a827_50e085b850aarow6_col3\" class=\"data row6 col3\" >1</td>\n",
       "                        <td id=\"T_881a9b46_6432_11eb_a827_50e085b850aarow6_col4\" class=\"data row6 col4\" >0</td>\n",
       "                        <td id=\"T_881a9b46_6432_11eb_a827_50e085b850aarow6_col5\" class=\"data row6 col5\" >1</td>\n",
       "                        <td id=\"T_881a9b46_6432_11eb_a827_50e085b850aarow6_col6\" class=\"data row6 col6\" >0</td>\n",
       "                        <td id=\"T_881a9b46_6432_11eb_a827_50e085b850aarow6_col7\" class=\"data row6 col7\" >1</td>\n",
       "                        <td id=\"T_881a9b46_6432_11eb_a827_50e085b850aarow6_col8\" class=\"data row6 col8\" >0</td>\n",
       "                        <td id=\"T_881a9b46_6432_11eb_a827_50e085b850aarow6_col9\" class=\"data row6 col9\" >1</td>\n",
       "                        <td id=\"T_881a9b46_6432_11eb_a827_50e085b850aarow6_col10\" class=\"data row6 col10\" >0</td>\n",
       "                        <td id=\"T_881a9b46_6432_11eb_a827_50e085b850aarow6_col11\" class=\"data row6 col11\" >1</td>\n",
       "                        <td id=\"T_881a9b46_6432_11eb_a827_50e085b850aarow6_col12\" class=\"data row6 col12\" >0</td>\n",
       "                        <td id=\"T_881a9b46_6432_11eb_a827_50e085b850aarow6_col13\" class=\"data row6 col13\" >1</td>\n",
       "                        <td id=\"T_881a9b46_6432_11eb_a827_50e085b850aarow6_col14\" class=\"data row6 col14\" >0</td>\n",
       "                        <td id=\"T_881a9b46_6432_11eb_a827_50e085b850aarow6_col15\" class=\"data row6 col15\" >1</td>\n",
       "                        <td id=\"T_881a9b46_6432_11eb_a827_50e085b850aarow6_col16\" class=\"data row6 col16\" >0</td>\n",
       "                        <td id=\"T_881a9b46_6432_11eb_a827_50e085b850aarow6_col17\" class=\"data row6 col17\" >1</td>\n",
       "            </tr>\n",
       "            <tr>\n",
       "                        <th id=\"T_881a9b46_6432_11eb_a827_50e085b850aalevel0_row7\" class=\"row_heading level0 row7\" >H</th>\n",
       "                        <td id=\"T_881a9b46_6432_11eb_a827_50e085b850aarow7_col0\" class=\"data row7 col0\" >0</td>\n",
       "                        <td id=\"T_881a9b46_6432_11eb_a827_50e085b850aarow7_col1\" class=\"data row7 col1\" >1</td>\n",
       "                        <td id=\"T_881a9b46_6432_11eb_a827_50e085b850aarow7_col2\" class=\"data row7 col2\" >0</td>\n",
       "                        <td id=\"T_881a9b46_6432_11eb_a827_50e085b850aarow7_col3\" class=\"data row7 col3\" >1</td>\n",
       "                        <td id=\"T_881a9b46_6432_11eb_a827_50e085b850aarow7_col4\" class=\"data row7 col4\" >0</td>\n",
       "                        <td id=\"T_881a9b46_6432_11eb_a827_50e085b850aarow7_col5\" class=\"data row7 col5\" >1</td>\n",
       "                        <td id=\"T_881a9b46_6432_11eb_a827_50e085b850aarow7_col6\" class=\"data row7 col6\" >0</td>\n",
       "                        <td id=\"T_881a9b46_6432_11eb_a827_50e085b850aarow7_col7\" class=\"data row7 col7\" >1</td>\n",
       "                        <td id=\"T_881a9b46_6432_11eb_a827_50e085b850aarow7_col8\" class=\"data row7 col8\" >0</td>\n",
       "                        <td id=\"T_881a9b46_6432_11eb_a827_50e085b850aarow7_col9\" class=\"data row7 col9\" >1</td>\n",
       "                        <td id=\"T_881a9b46_6432_11eb_a827_50e085b850aarow7_col10\" class=\"data row7 col10\" >0</td>\n",
       "                        <td id=\"T_881a9b46_6432_11eb_a827_50e085b850aarow7_col11\" class=\"data row7 col11\" >1</td>\n",
       "                        <td id=\"T_881a9b46_6432_11eb_a827_50e085b850aarow7_col12\" class=\"data row7 col12\" >0</td>\n",
       "                        <td id=\"T_881a9b46_6432_11eb_a827_50e085b850aarow7_col13\" class=\"data row7 col13\" >1</td>\n",
       "                        <td id=\"T_881a9b46_6432_11eb_a827_50e085b850aarow7_col14\" class=\"data row7 col14\" >0</td>\n",
       "                        <td id=\"T_881a9b46_6432_11eb_a827_50e085b850aarow7_col15\" class=\"data row7 col15\" >1</td>\n",
       "                        <td id=\"T_881a9b46_6432_11eb_a827_50e085b850aarow7_col16\" class=\"data row7 col16\" >0</td>\n",
       "                        <td id=\"T_881a9b46_6432_11eb_a827_50e085b850aarow7_col17\" class=\"data row7 col17\" >1</td>\n",
       "            </tr>\n",
       "            <tr>\n",
       "                        <th id=\"T_881a9b46_6432_11eb_a827_50e085b850aalevel0_row8\" class=\"row_heading level0 row8\" >I</th>\n",
       "                        <td id=\"T_881a9b46_6432_11eb_a827_50e085b850aarow8_col0\" class=\"data row8 col0\" >0</td>\n",
       "                        <td id=\"T_881a9b46_6432_11eb_a827_50e085b850aarow8_col1\" class=\"data row8 col1\" >1</td>\n",
       "                        <td id=\"T_881a9b46_6432_11eb_a827_50e085b850aarow8_col2\" class=\"data row8 col2\" >0</td>\n",
       "                        <td id=\"T_881a9b46_6432_11eb_a827_50e085b850aarow8_col3\" class=\"data row8 col3\" >1</td>\n",
       "                        <td id=\"T_881a9b46_6432_11eb_a827_50e085b850aarow8_col4\" class=\"data row8 col4\" >0</td>\n",
       "                        <td id=\"T_881a9b46_6432_11eb_a827_50e085b850aarow8_col5\" class=\"data row8 col5\" >1</td>\n",
       "                        <td id=\"T_881a9b46_6432_11eb_a827_50e085b850aarow8_col6\" class=\"data row8 col6\" >0</td>\n",
       "                        <td id=\"T_881a9b46_6432_11eb_a827_50e085b850aarow8_col7\" class=\"data row8 col7\" >1</td>\n",
       "                        <td id=\"T_881a9b46_6432_11eb_a827_50e085b850aarow8_col8\" class=\"data row8 col8\" >0</td>\n",
       "                        <td id=\"T_881a9b46_6432_11eb_a827_50e085b850aarow8_col9\" class=\"data row8 col9\" >1</td>\n",
       "                        <td id=\"T_881a9b46_6432_11eb_a827_50e085b850aarow8_col10\" class=\"data row8 col10\" >0</td>\n",
       "                        <td id=\"T_881a9b46_6432_11eb_a827_50e085b850aarow8_col11\" class=\"data row8 col11\" >1</td>\n",
       "                        <td id=\"T_881a9b46_6432_11eb_a827_50e085b850aarow8_col12\" class=\"data row8 col12\" >0</td>\n",
       "                        <td id=\"T_881a9b46_6432_11eb_a827_50e085b850aarow8_col13\" class=\"data row8 col13\" >1</td>\n",
       "                        <td id=\"T_881a9b46_6432_11eb_a827_50e085b850aarow8_col14\" class=\"data row8 col14\" >0</td>\n",
       "                        <td id=\"T_881a9b46_6432_11eb_a827_50e085b850aarow8_col15\" class=\"data row8 col15\" >1</td>\n",
       "                        <td id=\"T_881a9b46_6432_11eb_a827_50e085b850aarow8_col16\" class=\"data row8 col16\" >0</td>\n",
       "                        <td id=\"T_881a9b46_6432_11eb_a827_50e085b850aarow8_col17\" class=\"data row8 col17\" >1</td>\n",
       "            </tr>\n",
       "            <tr>\n",
       "                        <th id=\"T_881a9b46_6432_11eb_a827_50e085b850aalevel0_row9\" class=\"row_heading level0 row9\" >J</th>\n",
       "                        <td id=\"T_881a9b46_6432_11eb_a827_50e085b850aarow9_col0\" class=\"data row9 col0\" >0.304348</td>\n",
       "                        <td id=\"T_881a9b46_6432_11eb_a827_50e085b850aarow9_col1\" class=\"data row9 col1\" >0.866667</td>\n",
       "                        <td id=\"T_881a9b46_6432_11eb_a827_50e085b850aarow9_col2\" class=\"data row9 col2\" >0.26087</td>\n",
       "                        <td id=\"T_881a9b46_6432_11eb_a827_50e085b850aarow9_col3\" class=\"data row9 col3\" >0.852381</td>\n",
       "                        <td id=\"T_881a9b46_6432_11eb_a827_50e085b850aarow9_col4\" class=\"data row9 col4\" >0.326087</td>\n",
       "                        <td id=\"T_881a9b46_6432_11eb_a827_50e085b850aarow9_col5\" class=\"data row9 col5\" >0.880952</td>\n",
       "                        <td id=\"T_881a9b46_6432_11eb_a827_50e085b850aarow9_col6\" class=\"data row9 col6\" >0.282609</td>\n",
       "                        <td id=\"T_881a9b46_6432_11eb_a827_50e085b850aarow9_col7\" class=\"data row9 col7\" >0.866667</td>\n",
       "                        <td id=\"T_881a9b46_6432_11eb_a827_50e085b850aarow9_col8\" class=\"data row9 col8\" >0.282609</td>\n",
       "                        <td id=\"T_881a9b46_6432_11eb_a827_50e085b850aarow9_col9\" class=\"data row9 col9\" >0.87619</td>\n",
       "                        <td id=\"T_881a9b46_6432_11eb_a827_50e085b850aarow9_col10\" class=\"data row9 col10\" >0.26087</td>\n",
       "                        <td id=\"T_881a9b46_6432_11eb_a827_50e085b850aarow9_col11\" class=\"data row9 col11\" >0.871429</td>\n",
       "                        <td id=\"T_881a9b46_6432_11eb_a827_50e085b850aarow9_col12\" class=\"data row9 col12\" >0.326087</td>\n",
       "                        <td id=\"T_881a9b46_6432_11eb_a827_50e085b850aarow9_col13\" class=\"data row9 col13\" >0.871429</td>\n",
       "                        <td id=\"T_881a9b46_6432_11eb_a827_50e085b850aarow9_col14\" class=\"data row9 col14\" >0.282609</td>\n",
       "                        <td id=\"T_881a9b46_6432_11eb_a827_50e085b850aarow9_col15\" class=\"data row9 col15\" >0.87619</td>\n",
       "                        <td id=\"T_881a9b46_6432_11eb_a827_50e085b850aarow9_col16\" class=\"data row9 col16\" >0.304348</td>\n",
       "                        <td id=\"T_881a9b46_6432_11eb_a827_50e085b850aarow9_col17\" class=\"data row9 col17\" >0.871429</td>\n",
       "            </tr>\n",
       "            <tr>\n",
       "                        <th id=\"T_881a9b46_6432_11eb_a827_50e085b850aalevel0_row10\" class=\"row_heading level0 row10\" >0</th>\n",
       "                        <td id=\"T_881a9b46_6432_11eb_a827_50e085b850aarow10_col0\" class=\"data row10 col0\" >0.361446</td>\n",
       "                        <td id=\"T_881a9b46_6432_11eb_a827_50e085b850aarow10_col1\" class=\"data row10 col1\" >0.913295</td>\n",
       "                        <td id=\"T_881a9b46_6432_11eb_a827_50e085b850aarow10_col2\" class=\"data row10 col2\" >0.361446</td>\n",
       "                        <td id=\"T_881a9b46_6432_11eb_a827_50e085b850aarow10_col3\" class=\"data row10 col3\" >0.907514</td>\n",
       "                        <td id=\"T_881a9b46_6432_11eb_a827_50e085b850aarow10_col4\" class=\"data row10 col4\" >0.361446</td>\n",
       "                        <td id=\"T_881a9b46_6432_11eb_a827_50e085b850aarow10_col5\" class=\"data row10 col5\" >0.913295</td>\n",
       "                        <td id=\"T_881a9b46_6432_11eb_a827_50e085b850aarow10_col6\" class=\"data row10 col6\" >0.349398</td>\n",
       "                        <td id=\"T_881a9b46_6432_11eb_a827_50e085b850aarow10_col7\" class=\"data row10 col7\" >0.913295</td>\n",
       "                        <td id=\"T_881a9b46_6432_11eb_a827_50e085b850aarow10_col8\" class=\"data row10 col8\" >0.337349</td>\n",
       "                        <td id=\"T_881a9b46_6432_11eb_a827_50e085b850aarow10_col9\" class=\"data row10 col9\" >0.913295</td>\n",
       "                        <td id=\"T_881a9b46_6432_11eb_a827_50e085b850aarow10_col10\" class=\"data row10 col10\" >0.337349</td>\n",
       "                        <td id=\"T_881a9b46_6432_11eb_a827_50e085b850aarow10_col11\" class=\"data row10 col11\" >0.907514</td>\n",
       "                        <td id=\"T_881a9b46_6432_11eb_a827_50e085b850aarow10_col12\" class=\"data row10 col12\" >0.349398</td>\n",
       "                        <td id=\"T_881a9b46_6432_11eb_a827_50e085b850aarow10_col13\" class=\"data row10 col13\" >0.913295</td>\n",
       "                        <td id=\"T_881a9b46_6432_11eb_a827_50e085b850aarow10_col14\" class=\"data row10 col14\" >0.349398</td>\n",
       "                        <td id=\"T_881a9b46_6432_11eb_a827_50e085b850aarow10_col15\" class=\"data row10 col15\" >0.901734</td>\n",
       "                        <td id=\"T_881a9b46_6432_11eb_a827_50e085b850aarow10_col16\" class=\"data row10 col16\" >0.349398</td>\n",
       "                        <td id=\"T_881a9b46_6432_11eb_a827_50e085b850aarow10_col17\" class=\"data row10 col17\" >0.919075</td>\n",
       "            </tr>\n",
       "            <tr>\n",
       "                        <th id=\"T_881a9b46_6432_11eb_a827_50e085b850aalevel0_row11\" class=\"row_heading level0 row11\" >1</th>\n",
       "                        <td id=\"T_881a9b46_6432_11eb_a827_50e085b850aarow11_col0\" class=\"data row11 col0\" >0.0784314</td>\n",
       "                        <td id=\"T_881a9b46_6432_11eb_a827_50e085b850aarow11_col1\" class=\"data row11 col1\" >0.95122</td>\n",
       "                        <td id=\"T_881a9b46_6432_11eb_a827_50e085b850aarow11_col2\" class=\"data row11 col2\" >0.0784314</td>\n",
       "                        <td id=\"T_881a9b46_6432_11eb_a827_50e085b850aarow11_col3\" class=\"data row11 col3\" >0.95122</td>\n",
       "                        <td id=\"T_881a9b46_6432_11eb_a827_50e085b850aarow11_col4\" class=\"data row11 col4\" >0.0784314</td>\n",
       "                        <td id=\"T_881a9b46_6432_11eb_a827_50e085b850aarow11_col5\" class=\"data row11 col5\" >0.956098</td>\n",
       "                        <td id=\"T_881a9b46_6432_11eb_a827_50e085b850aarow11_col6\" class=\"data row11 col6\" >0.0784314</td>\n",
       "                        <td id=\"T_881a9b46_6432_11eb_a827_50e085b850aarow11_col7\" class=\"data row11 col7\" >0.956098</td>\n",
       "                        <td id=\"T_881a9b46_6432_11eb_a827_50e085b850aarow11_col8\" class=\"data row11 col8\" >0.0784314</td>\n",
       "                        <td id=\"T_881a9b46_6432_11eb_a827_50e085b850aarow11_col9\" class=\"data row11 col9\" >0.95122</td>\n",
       "                        <td id=\"T_881a9b46_6432_11eb_a827_50e085b850aarow11_col10\" class=\"data row11 col10\" >0.0784314</td>\n",
       "                        <td id=\"T_881a9b46_6432_11eb_a827_50e085b850aarow11_col11\" class=\"data row11 col11\" >0.95122</td>\n",
       "                        <td id=\"T_881a9b46_6432_11eb_a827_50e085b850aarow11_col12\" class=\"data row11 col12\" >0.0784314</td>\n",
       "                        <td id=\"T_881a9b46_6432_11eb_a827_50e085b850aarow11_col13\" class=\"data row11 col13\" >0.956098</td>\n",
       "                        <td id=\"T_881a9b46_6432_11eb_a827_50e085b850aarow11_col14\" class=\"data row11 col14\" >0.0784314</td>\n",
       "                        <td id=\"T_881a9b46_6432_11eb_a827_50e085b850aarow11_col15\" class=\"data row11 col15\" >0.956098</td>\n",
       "                        <td id=\"T_881a9b46_6432_11eb_a827_50e085b850aarow11_col16\" class=\"data row11 col16\" >0.0784314</td>\n",
       "                        <td id=\"T_881a9b46_6432_11eb_a827_50e085b850aarow11_col17\" class=\"data row11 col17\" >0.956098</td>\n",
       "            </tr>\n",
       "            <tr>\n",
       "                        <th id=\"T_881a9b46_6432_11eb_a827_50e085b850aalevel0_row12\" class=\"row_heading level0 row12\" >2</th>\n",
       "                        <td id=\"T_881a9b46_6432_11eb_a827_50e085b850aarow12_col0\" class=\"data row12 col0\" >0.333333</td>\n",
       "                        <td id=\"T_881a9b46_6432_11eb_a827_50e085b850aarow12_col1\" class=\"data row12 col1\" >0.851485</td>\n",
       "                        <td id=\"T_881a9b46_6432_11eb_a827_50e085b850aarow12_col2\" class=\"data row12 col2\" >0.351852</td>\n",
       "                        <td id=\"T_881a9b46_6432_11eb_a827_50e085b850aarow12_col3\" class=\"data row12 col3\" >0.861386</td>\n",
       "                        <td id=\"T_881a9b46_6432_11eb_a827_50e085b850aarow12_col4\" class=\"data row12 col4\" >0.444444</td>\n",
       "                        <td id=\"T_881a9b46_6432_11eb_a827_50e085b850aarow12_col5\" class=\"data row12 col5\" >0.920792</td>\n",
       "                        <td id=\"T_881a9b46_6432_11eb_a827_50e085b850aarow12_col6\" class=\"data row12 col6\" >0.37037</td>\n",
       "                        <td id=\"T_881a9b46_6432_11eb_a827_50e085b850aarow12_col7\" class=\"data row12 col7\" >0.866337</td>\n",
       "                        <td id=\"T_881a9b46_6432_11eb_a827_50e085b850aarow12_col8\" class=\"data row12 col8\" >0.351852</td>\n",
       "                        <td id=\"T_881a9b46_6432_11eb_a827_50e085b850aarow12_col9\" class=\"data row12 col9\" >0.856436</td>\n",
       "                        <td id=\"T_881a9b46_6432_11eb_a827_50e085b850aarow12_col10\" class=\"data row12 col10\" >0.351852</td>\n",
       "                        <td id=\"T_881a9b46_6432_11eb_a827_50e085b850aarow12_col11\" class=\"data row12 col11\" >0.866337</td>\n",
       "                        <td id=\"T_881a9b46_6432_11eb_a827_50e085b850aarow12_col12\" class=\"data row12 col12\" >0.425926</td>\n",
       "                        <td id=\"T_881a9b46_6432_11eb_a827_50e085b850aarow12_col13\" class=\"data row12 col13\" >0.89604</td>\n",
       "                        <td id=\"T_881a9b46_6432_11eb_a827_50e085b850aarow12_col14\" class=\"data row12 col14\" >0.444444</td>\n",
       "                        <td id=\"T_881a9b46_6432_11eb_a827_50e085b850aarow12_col15\" class=\"data row12 col15\" >0.905941</td>\n",
       "                        <td id=\"T_881a9b46_6432_11eb_a827_50e085b850aarow12_col16\" class=\"data row12 col16\" >0.444444</td>\n",
       "                        <td id=\"T_881a9b46_6432_11eb_a827_50e085b850aarow12_col17\" class=\"data row12 col17\" >0.876238</td>\n",
       "            </tr>\n",
       "            <tr>\n",
       "                        <th id=\"T_881a9b46_6432_11eb_a827_50e085b850aalevel0_row13\" class=\"row_heading level0 row13\" >3</th>\n",
       "                        <td id=\"T_881a9b46_6432_11eb_a827_50e085b850aarow13_col0\" class=\"data row13 col0\" >0</td>\n",
       "                        <td id=\"T_881a9b46_6432_11eb_a827_50e085b850aarow13_col1\" class=\"data row13 col1\" >1</td>\n",
       "                        <td id=\"T_881a9b46_6432_11eb_a827_50e085b850aarow13_col2\" class=\"data row13 col2\" >0</td>\n",
       "                        <td id=\"T_881a9b46_6432_11eb_a827_50e085b850aarow13_col3\" class=\"data row13 col3\" >1</td>\n",
       "                        <td id=\"T_881a9b46_6432_11eb_a827_50e085b850aarow13_col4\" class=\"data row13 col4\" >0</td>\n",
       "                        <td id=\"T_881a9b46_6432_11eb_a827_50e085b850aarow13_col5\" class=\"data row13 col5\" >1</td>\n",
       "                        <td id=\"T_881a9b46_6432_11eb_a827_50e085b850aarow13_col6\" class=\"data row13 col6\" >0</td>\n",
       "                        <td id=\"T_881a9b46_6432_11eb_a827_50e085b850aarow13_col7\" class=\"data row13 col7\" >1</td>\n",
       "                        <td id=\"T_881a9b46_6432_11eb_a827_50e085b850aarow13_col8\" class=\"data row13 col8\" >0</td>\n",
       "                        <td id=\"T_881a9b46_6432_11eb_a827_50e085b850aarow13_col9\" class=\"data row13 col9\" >1</td>\n",
       "                        <td id=\"T_881a9b46_6432_11eb_a827_50e085b850aarow13_col10\" class=\"data row13 col10\" >0</td>\n",
       "                        <td id=\"T_881a9b46_6432_11eb_a827_50e085b850aarow13_col11\" class=\"data row13 col11\" >1</td>\n",
       "                        <td id=\"T_881a9b46_6432_11eb_a827_50e085b850aarow13_col12\" class=\"data row13 col12\" >0</td>\n",
       "                        <td id=\"T_881a9b46_6432_11eb_a827_50e085b850aarow13_col13\" class=\"data row13 col13\" >1</td>\n",
       "                        <td id=\"T_881a9b46_6432_11eb_a827_50e085b850aarow13_col14\" class=\"data row13 col14\" >0</td>\n",
       "                        <td id=\"T_881a9b46_6432_11eb_a827_50e085b850aarow13_col15\" class=\"data row13 col15\" >1</td>\n",
       "                        <td id=\"T_881a9b46_6432_11eb_a827_50e085b850aarow13_col16\" class=\"data row13 col16\" >0</td>\n",
       "                        <td id=\"T_881a9b46_6432_11eb_a827_50e085b850aarow13_col17\" class=\"data row13 col17\" >1</td>\n",
       "            </tr>\n",
       "            <tr>\n",
       "                        <th id=\"T_881a9b46_6432_11eb_a827_50e085b850aalevel0_row14\" class=\"row_heading level0 row14\" >4</th>\n",
       "                        <td id=\"T_881a9b46_6432_11eb_a827_50e085b850aarow14_col0\" class=\"data row14 col0\" >0.583333</td>\n",
       "                        <td id=\"T_881a9b46_6432_11eb_a827_50e085b850aarow14_col1\" class=\"data row14 col1\" >0.826087</td>\n",
       "                        <td id=\"T_881a9b46_6432_11eb_a827_50e085b850aarow14_col2\" class=\"data row14 col2\" >0.583333</td>\n",
       "                        <td id=\"T_881a9b46_6432_11eb_a827_50e085b850aarow14_col3\" class=\"data row14 col3\" >0.820652</td>\n",
       "                        <td id=\"T_881a9b46_6432_11eb_a827_50e085b850aarow14_col4\" class=\"data row14 col4\" >0.583333</td>\n",
       "                        <td id=\"T_881a9b46_6432_11eb_a827_50e085b850aarow14_col5\" class=\"data row14 col5\" >0.826087</td>\n",
       "                        <td id=\"T_881a9b46_6432_11eb_a827_50e085b850aarow14_col6\" class=\"data row14 col6\" >0.583333</td>\n",
       "                        <td id=\"T_881a9b46_6432_11eb_a827_50e085b850aarow14_col7\" class=\"data row14 col7\" >0.815217</td>\n",
       "                        <td id=\"T_881a9b46_6432_11eb_a827_50e085b850aarow14_col8\" class=\"data row14 col8\" >0.569444</td>\n",
       "                        <td id=\"T_881a9b46_6432_11eb_a827_50e085b850aarow14_col9\" class=\"data row14 col9\" >0.826087</td>\n",
       "                        <td id=\"T_881a9b46_6432_11eb_a827_50e085b850aarow14_col10\" class=\"data row14 col10\" >0.583333</td>\n",
       "                        <td id=\"T_881a9b46_6432_11eb_a827_50e085b850aarow14_col11\" class=\"data row14 col11\" >0.826087</td>\n",
       "                        <td id=\"T_881a9b46_6432_11eb_a827_50e085b850aarow14_col12\" class=\"data row14 col12\" >0.569444</td>\n",
       "                        <td id=\"T_881a9b46_6432_11eb_a827_50e085b850aarow14_col13\" class=\"data row14 col13\" >0.826087</td>\n",
       "                        <td id=\"T_881a9b46_6432_11eb_a827_50e085b850aarow14_col14\" class=\"data row14 col14\" >0.583333</td>\n",
       "                        <td id=\"T_881a9b46_6432_11eb_a827_50e085b850aarow14_col15\" class=\"data row14 col15\" >0.826087</td>\n",
       "                        <td id=\"T_881a9b46_6432_11eb_a827_50e085b850aarow14_col16\" class=\"data row14 col16\" >0.569444</td>\n",
       "                        <td id=\"T_881a9b46_6432_11eb_a827_50e085b850aarow14_col17\" class=\"data row14 col17\" >0.826087</td>\n",
       "            </tr>\n",
       "            <tr>\n",
       "                        <th id=\"T_881a9b46_6432_11eb_a827_50e085b850aalevel0_row15\" class=\"row_heading level0 row15\" >5</th>\n",
       "                        <td id=\"T_881a9b46_6432_11eb_a827_50e085b850aarow15_col0\" class=\"data row15 col0\" >0</td>\n",
       "                        <td id=\"T_881a9b46_6432_11eb_a827_50e085b850aarow15_col1\" class=\"data row15 col1\" >1</td>\n",
       "                        <td id=\"T_881a9b46_6432_11eb_a827_50e085b850aarow15_col2\" class=\"data row15 col2\" >0</td>\n",
       "                        <td id=\"T_881a9b46_6432_11eb_a827_50e085b850aarow15_col3\" class=\"data row15 col3\" >1</td>\n",
       "                        <td id=\"T_881a9b46_6432_11eb_a827_50e085b850aarow15_col4\" class=\"data row15 col4\" >0</td>\n",
       "                        <td id=\"T_881a9b46_6432_11eb_a827_50e085b850aarow15_col5\" class=\"data row15 col5\" >1</td>\n",
       "                        <td id=\"T_881a9b46_6432_11eb_a827_50e085b850aarow15_col6\" class=\"data row15 col6\" >0</td>\n",
       "                        <td id=\"T_881a9b46_6432_11eb_a827_50e085b850aarow15_col7\" class=\"data row15 col7\" >1</td>\n",
       "                        <td id=\"T_881a9b46_6432_11eb_a827_50e085b850aarow15_col8\" class=\"data row15 col8\" >0</td>\n",
       "                        <td id=\"T_881a9b46_6432_11eb_a827_50e085b850aarow15_col9\" class=\"data row15 col9\" >1</td>\n",
       "                        <td id=\"T_881a9b46_6432_11eb_a827_50e085b850aarow15_col10\" class=\"data row15 col10\" >0</td>\n",
       "                        <td id=\"T_881a9b46_6432_11eb_a827_50e085b850aarow15_col11\" class=\"data row15 col11\" >1</td>\n",
       "                        <td id=\"T_881a9b46_6432_11eb_a827_50e085b850aarow15_col12\" class=\"data row15 col12\" >0</td>\n",
       "                        <td id=\"T_881a9b46_6432_11eb_a827_50e085b850aarow15_col13\" class=\"data row15 col13\" >1</td>\n",
       "                        <td id=\"T_881a9b46_6432_11eb_a827_50e085b850aarow15_col14\" class=\"data row15 col14\" >0</td>\n",
       "                        <td id=\"T_881a9b46_6432_11eb_a827_50e085b850aarow15_col15\" class=\"data row15 col15\" >1</td>\n",
       "                        <td id=\"T_881a9b46_6432_11eb_a827_50e085b850aarow15_col16\" class=\"data row15 col16\" >0</td>\n",
       "                        <td id=\"T_881a9b46_6432_11eb_a827_50e085b850aarow15_col17\" class=\"data row15 col17\" >1</td>\n",
       "            </tr>\n",
       "            <tr>\n",
       "                        <th id=\"T_881a9b46_6432_11eb_a827_50e085b850aalevel0_row16\" class=\"row_heading level0 row16\" >6</th>\n",
       "                        <td id=\"T_881a9b46_6432_11eb_a827_50e085b850aarow16_col0\" class=\"data row16 col0\" >0.260274</td>\n",
       "                        <td id=\"T_881a9b46_6432_11eb_a827_50e085b850aarow16_col1\" class=\"data row16 col1\" >0.928962</td>\n",
       "                        <td id=\"T_881a9b46_6432_11eb_a827_50e085b850aarow16_col2\" class=\"data row16 col2\" >0.287671</td>\n",
       "                        <td id=\"T_881a9b46_6432_11eb_a827_50e085b850aarow16_col3\" class=\"data row16 col3\" >0.939891</td>\n",
       "                        <td id=\"T_881a9b46_6432_11eb_a827_50e085b850aarow16_col4\" class=\"data row16 col4\" >0.273973</td>\n",
       "                        <td id=\"T_881a9b46_6432_11eb_a827_50e085b850aarow16_col5\" class=\"data row16 col5\" >0.928962</td>\n",
       "                        <td id=\"T_881a9b46_6432_11eb_a827_50e085b850aarow16_col6\" class=\"data row16 col6\" >0.287671</td>\n",
       "                        <td id=\"T_881a9b46_6432_11eb_a827_50e085b850aarow16_col7\" class=\"data row16 col7\" >0.928962</td>\n",
       "                        <td id=\"T_881a9b46_6432_11eb_a827_50e085b850aarow16_col8\" class=\"data row16 col8\" >0.260274</td>\n",
       "                        <td id=\"T_881a9b46_6432_11eb_a827_50e085b850aarow16_col9\" class=\"data row16 col9\" >0.928962</td>\n",
       "                        <td id=\"T_881a9b46_6432_11eb_a827_50e085b850aarow16_col10\" class=\"data row16 col10\" >0.273973</td>\n",
       "                        <td id=\"T_881a9b46_6432_11eb_a827_50e085b850aarow16_col11\" class=\"data row16 col11\" >0.934426</td>\n",
       "                        <td id=\"T_881a9b46_6432_11eb_a827_50e085b850aarow16_col12\" class=\"data row16 col12\" >0.273973</td>\n",
       "                        <td id=\"T_881a9b46_6432_11eb_a827_50e085b850aarow16_col13\" class=\"data row16 col13\" >0.928962</td>\n",
       "                        <td id=\"T_881a9b46_6432_11eb_a827_50e085b850aarow16_col14\" class=\"data row16 col14\" >0.287671</td>\n",
       "                        <td id=\"T_881a9b46_6432_11eb_a827_50e085b850aarow16_col15\" class=\"data row16 col15\" >0.934426</td>\n",
       "                        <td id=\"T_881a9b46_6432_11eb_a827_50e085b850aarow16_col16\" class=\"data row16 col16\" >0.273973</td>\n",
       "                        <td id=\"T_881a9b46_6432_11eb_a827_50e085b850aarow16_col17\" class=\"data row16 col17\" >0.923497</td>\n",
       "            </tr>\n",
       "            <tr>\n",
       "                        <th id=\"T_881a9b46_6432_11eb_a827_50e085b850aalevel0_row17\" class=\"row_heading level0 row17\" >7</th>\n",
       "                        <td id=\"T_881a9b46_6432_11eb_a827_50e085b850aarow17_col0\" class=\"data row17 col0\" >0.543478</td>\n",
       "                        <td id=\"T_881a9b46_6432_11eb_a827_50e085b850aarow17_col1\" class=\"data row17 col1\" >0.838095</td>\n",
       "                        <td id=\"T_881a9b46_6432_11eb_a827_50e085b850aarow17_col2\" class=\"data row17 col2\" >0.5</td>\n",
       "                        <td id=\"T_881a9b46_6432_11eb_a827_50e085b850aarow17_col3\" class=\"data row17 col3\" >0.857143</td>\n",
       "                        <td id=\"T_881a9b46_6432_11eb_a827_50e085b850aarow17_col4\" class=\"data row17 col4\" >0.543478</td>\n",
       "                        <td id=\"T_881a9b46_6432_11eb_a827_50e085b850aarow17_col5\" class=\"data row17 col5\" >0.857143</td>\n",
       "                        <td id=\"T_881a9b46_6432_11eb_a827_50e085b850aarow17_col6\" class=\"data row17 col6\" >0.521739</td>\n",
       "                        <td id=\"T_881a9b46_6432_11eb_a827_50e085b850aarow17_col7\" class=\"data row17 col7\" >0.847619</td>\n",
       "                        <td id=\"T_881a9b46_6432_11eb_a827_50e085b850aarow17_col8\" class=\"data row17 col8\" >0.521739</td>\n",
       "                        <td id=\"T_881a9b46_6432_11eb_a827_50e085b850aarow17_col9\" class=\"data row17 col9\" >0.852381</td>\n",
       "                        <td id=\"T_881a9b46_6432_11eb_a827_50e085b850aarow17_col10\" class=\"data row17 col10\" >0.5</td>\n",
       "                        <td id=\"T_881a9b46_6432_11eb_a827_50e085b850aarow17_col11\" class=\"data row17 col11\" >0.857143</td>\n",
       "                        <td id=\"T_881a9b46_6432_11eb_a827_50e085b850aarow17_col12\" class=\"data row17 col12\" >0.521739</td>\n",
       "                        <td id=\"T_881a9b46_6432_11eb_a827_50e085b850aarow17_col13\" class=\"data row17 col13\" >0.861905</td>\n",
       "                        <td id=\"T_881a9b46_6432_11eb_a827_50e085b850aarow17_col14\" class=\"data row17 col14\" >0.543478</td>\n",
       "                        <td id=\"T_881a9b46_6432_11eb_a827_50e085b850aarow17_col15\" class=\"data row17 col15\" >0.857143</td>\n",
       "                        <td id=\"T_881a9b46_6432_11eb_a827_50e085b850aarow17_col16\" class=\"data row17 col16\" >0.521739</td>\n",
       "                        <td id=\"T_881a9b46_6432_11eb_a827_50e085b850aarow17_col17\" class=\"data row17 col17\" >0.861905</td>\n",
       "            </tr>\n",
       "            <tr>\n",
       "                        <th id=\"T_881a9b46_6432_11eb_a827_50e085b850aalevel0_row18\" class=\"row_heading level0 row18\" >8</th>\n",
       "                        <td id=\"T_881a9b46_6432_11eb_a827_50e085b850aarow18_col0\" class=\"data row18 col0\" >0.383562</td>\n",
       "                        <td id=\"T_881a9b46_6432_11eb_a827_50e085b850aarow18_col1\" class=\"data row18 col1\" >0.896175</td>\n",
       "                        <td id=\"T_881a9b46_6432_11eb_a827_50e085b850aarow18_col2\" class=\"data row18 col2\" >0.438356</td>\n",
       "                        <td id=\"T_881a9b46_6432_11eb_a827_50e085b850aarow18_col3\" class=\"data row18 col3\" >0.89071</td>\n",
       "                        <td id=\"T_881a9b46_6432_11eb_a827_50e085b850aarow18_col4\" class=\"data row18 col4\" >0.39726</td>\n",
       "                        <td id=\"T_881a9b46_6432_11eb_a827_50e085b850aarow18_col5\" class=\"data row18 col5\" >0.912568</td>\n",
       "                        <td id=\"T_881a9b46_6432_11eb_a827_50e085b850aarow18_col6\" class=\"data row18 col6\" >0.383562</td>\n",
       "                        <td id=\"T_881a9b46_6432_11eb_a827_50e085b850aarow18_col7\" class=\"data row18 col7\" >0.896175</td>\n",
       "                        <td id=\"T_881a9b46_6432_11eb_a827_50e085b850aarow18_col8\" class=\"data row18 col8\" >0.328767</td>\n",
       "                        <td id=\"T_881a9b46_6432_11eb_a827_50e085b850aarow18_col9\" class=\"data row18 col9\" >0.89071</td>\n",
       "                        <td id=\"T_881a9b46_6432_11eb_a827_50e085b850aarow18_col10\" class=\"data row18 col10\" >0.410959</td>\n",
       "                        <td id=\"T_881a9b46_6432_11eb_a827_50e085b850aarow18_col11\" class=\"data row18 col11\" >0.896175</td>\n",
       "                        <td id=\"T_881a9b46_6432_11eb_a827_50e085b850aarow18_col12\" class=\"data row18 col12\" >0.342466</td>\n",
       "                        <td id=\"T_881a9b46_6432_11eb_a827_50e085b850aarow18_col13\" class=\"data row18 col13\" >0.896175</td>\n",
       "                        <td id=\"T_881a9b46_6432_11eb_a827_50e085b850aarow18_col14\" class=\"data row18 col14\" >0.356164</td>\n",
       "                        <td id=\"T_881a9b46_6432_11eb_a827_50e085b850aarow18_col15\" class=\"data row18 col15\" >0.901639</td>\n",
       "                        <td id=\"T_881a9b46_6432_11eb_a827_50e085b850aarow18_col16\" class=\"data row18 col16\" >0.342466</td>\n",
       "                        <td id=\"T_881a9b46_6432_11eb_a827_50e085b850aarow18_col17\" class=\"data row18 col17\" >0.901639</td>\n",
       "            </tr>\n",
       "            <tr>\n",
       "                        <th id=\"T_881a9b46_6432_11eb_a827_50e085b850aalevel0_row19\" class=\"row_heading level0 row19\" >9</th>\n",
       "                        <td id=\"T_881a9b46_6432_11eb_a827_50e085b850aarow19_col0\" class=\"data row19 col0\" >0</td>\n",
       "                        <td id=\"T_881a9b46_6432_11eb_a827_50e085b850aarow19_col1\" class=\"data row19 col1\" >1</td>\n",
       "                        <td id=\"T_881a9b46_6432_11eb_a827_50e085b850aarow19_col2\" class=\"data row19 col2\" >0</td>\n",
       "                        <td id=\"T_881a9b46_6432_11eb_a827_50e085b850aarow19_col3\" class=\"data row19 col3\" >1</td>\n",
       "                        <td id=\"T_881a9b46_6432_11eb_a827_50e085b850aarow19_col4\" class=\"data row19 col4\" >0</td>\n",
       "                        <td id=\"T_881a9b46_6432_11eb_a827_50e085b850aarow19_col5\" class=\"data row19 col5\" >1</td>\n",
       "                        <td id=\"T_881a9b46_6432_11eb_a827_50e085b850aarow19_col6\" class=\"data row19 col6\" >0</td>\n",
       "                        <td id=\"T_881a9b46_6432_11eb_a827_50e085b850aarow19_col7\" class=\"data row19 col7\" >1</td>\n",
       "                        <td id=\"T_881a9b46_6432_11eb_a827_50e085b850aarow19_col8\" class=\"data row19 col8\" >0</td>\n",
       "                        <td id=\"T_881a9b46_6432_11eb_a827_50e085b850aarow19_col9\" class=\"data row19 col9\" >1</td>\n",
       "                        <td id=\"T_881a9b46_6432_11eb_a827_50e085b850aarow19_col10\" class=\"data row19 col10\" >0</td>\n",
       "                        <td id=\"T_881a9b46_6432_11eb_a827_50e085b850aarow19_col11\" class=\"data row19 col11\" >1</td>\n",
       "                        <td id=\"T_881a9b46_6432_11eb_a827_50e085b850aarow19_col12\" class=\"data row19 col12\" >0</td>\n",
       "                        <td id=\"T_881a9b46_6432_11eb_a827_50e085b850aarow19_col13\" class=\"data row19 col13\" >1</td>\n",
       "                        <td id=\"T_881a9b46_6432_11eb_a827_50e085b850aarow19_col14\" class=\"data row19 col14\" >0</td>\n",
       "                        <td id=\"T_881a9b46_6432_11eb_a827_50e085b850aarow19_col15\" class=\"data row19 col15\" >1</td>\n",
       "                        <td id=\"T_881a9b46_6432_11eb_a827_50e085b850aarow19_col16\" class=\"data row19 col16\" >0</td>\n",
       "                        <td id=\"T_881a9b46_6432_11eb_a827_50e085b850aarow19_col17\" class=\"data row19 col17\" >1</td>\n",
       "            </tr>\n",
       "    </tbody></table>"
      ],
      "text/plain": [
       "<pandas.io.formats.style.Styler at 0x287e246f388>"
      ]
     },
     "execution_count": 20,
     "metadata": {},
     "output_type": "execute_result"
    }
   ],
   "source": [
    "row_names = class_names\n",
    "column_names = []\n",
    "for i in range(len(dev)):\n",
    "  column_names.append('stdev -'+str(dev[i])+' Ffa')\n",
    "  column_names.append('stdev -'+str(dev[i])+' Fh')\n",
    "df = pd.DataFrame(data=data.T,index=row_names,columns=column_names)\n",
    "df = df.style.set_properties(**{\n",
    "    'font-size': '8pt',\n",
    "})\n",
    "df"
   ]
  },
  {
   "cell_type": "markdown",
   "metadata": {
    "id": "g1HlpdNROuVx"
   },
   "source": [
    "### **Step 7 Discussion**"
   ]
  },
  {
   "cell_type": "markdown",
   "metadata": {
    "id": "pJGBeY7vPBHL"
   },
   "source": [
    "\n",
    "Here we have trained a single-layer perception by sampling 10 grayscale sub-images from the 20 image data set and making sure all values are binary (black or white).  Once the images were appended into an array, we applied both Approach 2 and 3 two on the training set by utilizing Tensorflow keras.model function that takes in a set input and applies an activation function onto the target output. We found that Approach 2 is incapable of predicting images that are not included in the training set, and so we choose to focus on implementing Approach 3 (fully-conncted network with image output). This model has an input layer with 256 nodes and an output layer with 256 nodes, and so it has 65,536 weights. We have used a sigmoid activation fucntion and applied the Adam Optimization method to adapt the learning rate for training the weights.\n",
    "\n",
    "Sigmoid function defined as:![0.PNG](data:image/png;base64,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)\n",
    " will return a real number between 0 to 1 on each of our 256 pixel values. The model function also reshapes the output to a 16 by 16 matrix. \n",
    "We then utilize the model.compile function with the optimization and loss function parameters. For the optimization function, Adam is applied which uses an estimation of the expected value and the variance (also known as the first and second moments) to adapt the learning rate for each weight in the model function:![1.PNG](data:image/png;base64,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)\n",
    "\n",
    "Where w is the weight, n is the number of iterations, m being the first moment, v the second moment, and epsilon is the smallest positive floating point number such that (1 + epsilon) - 1 equals epsilon. The 1st moment or mean and the 2nd moment (variance) is calculated as follows in the Adam optimizer:![2.PNG](data:image/png;base64,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)![3.PNG](data:image/png;base64,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) with beta being representative of the two optional bias values. \n",
    "\n",
    "The other parameter of our model.compile function is our loss function: MSE which stands for mean squared error. The formula being performed under the hood for this loss function is as follows:![4.PNG](data:image/png;base64,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) \n",
    "\n",
    "\n",
    "The loss function minimizes the error on the targeted output by comparing the training sample with the predicted output. Once this is completed, we go onto apply the model.fit function on the model that has been created. \n",
    "\n",
    "When training this model, we found that the choice of the training dataset (i.e., the 10 images used for training) and the number of epochs have a significant on the model performance. This is where the amount of epochs is inputted and the model is trained with the provided 10 images of our input. We believed that the most ideal approach to determine the optimal training set would be to develop a function that randonly selects 10 of the 20 images, train a SLP on them, evaluate the accuracy with 20 images, and then choose the training set that has the best performance. This approach would nonetheless require a very long time to implement, and so we choose to select a subset of images that we believe to have most distinctive shapes. Regarding the number of epochs, we experimented with several numbers (100, 250, 500, 750, 1000) and find that 500 produces the best results. In general, as standard deviation increases, it becomes more difficult for SLP to recover images. So as standard deviation increases, Fh decreases and Ffa increases.\n",
    "\n",
    "A better approach for the future would be to develop a stop function that makes the training pause when out-of-sample prediction accuracy does not improve with an additional epoch. This stop function should also allow us to pocket the weights trained at the previous epoch.\n",
    "\n",
    "\n",
    " "
   ]
  }
 ],
 "metadata": {
  "colab": {
   "collapsed_sections": [],
   "name": "HW1.ipynb",
   "provenance": [],
   "toc_visible": true
  },
  "kernelspec": {
   "display_name": "Python 3",
   "language": "python",
   "name": "python3"
  },
  "language_info": {
   "codemirror_mode": {
    "name": "ipython",
    "version": 3
   },
   "file_extension": ".py",
   "mimetype": "text/x-python",
   "name": "python",
   "nbconvert_exporter": "python",
   "pygments_lexer": "ipython3",
   "version": "3.7.4"
  }
 },
 "nbformat": 4,
 "nbformat_minor": 1
}
